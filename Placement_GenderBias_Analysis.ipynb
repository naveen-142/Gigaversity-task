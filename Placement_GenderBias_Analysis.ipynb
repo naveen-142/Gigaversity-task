{
 "cells": [
  {
   "cell_type": "markdown",
   "id": "a2ab4992",
   "metadata": {},
   "source": [
    "## Project Title: Gender Bias and Academic Influence on Job Placement Outcomes"
   ]
  },
  {
   "cell_type": "code",
   "execution_count": 1,
   "id": "738a2249",
   "metadata": {},
   "outputs": [],
   "source": [
    "import pandas as pd\n",
    "import numpy as np\n",
    "import matplotlib.pyplot as plt\n",
    "import seaborn as sns\n",
    "from scipy.stats import chi2_contingency\n",
    "from sklearn.model_selection import train_test_split\n",
    "from sklearn.linear_model import LogisticRegression\n",
    "from sklearn.preprocessing import LabelEncoder\n",
    "from sklearn.metrics import classification_report\n",
    "\n",
    "from simple_colors import *\n",
    "\n",
    "import warnings\n",
    "warnings.filterwarnings('ignore')"
   ]
  },
  {
   "cell_type": "code",
   "execution_count": 2,
   "id": "77e99f3f",
   "metadata": {},
   "outputs": [],
   "source": [
    "raw=pd.read_csv('Job_Placement_Data.csv')"
   ]
  },
  {
   "cell_type": "code",
   "execution_count": 3,
   "id": "38ae604b",
   "metadata": {},
   "outputs": [
    {
     "data": {
      "text/html": [
       "<div>\n",
       "<style scoped>\n",
       "    .dataframe tbody tr th:only-of-type {\n",
       "        vertical-align: middle;\n",
       "    }\n",
       "\n",
       "    .dataframe tbody tr th {\n",
       "        vertical-align: top;\n",
       "    }\n",
       "\n",
       "    .dataframe thead th {\n",
       "        text-align: right;\n",
       "    }\n",
       "</style>\n",
       "<table border=\"1\" class=\"dataframe\">\n",
       "  <thead>\n",
       "    <tr style=\"text-align: right;\">\n",
       "      <th></th>\n",
       "      <th>gender</th>\n",
       "      <th>ssc_percentage</th>\n",
       "      <th>ssc_board</th>\n",
       "      <th>hsc_percentage</th>\n",
       "      <th>hsc_board</th>\n",
       "      <th>hsc_subject</th>\n",
       "      <th>degree_percentage</th>\n",
       "      <th>undergrad_degree</th>\n",
       "      <th>work_experience</th>\n",
       "      <th>emp_test_percentage</th>\n",
       "      <th>specialisation</th>\n",
       "      <th>mba_percent</th>\n",
       "      <th>status</th>\n",
       "    </tr>\n",
       "  </thead>\n",
       "  <tbody>\n",
       "    <tr>\n",
       "      <th>0</th>\n",
       "      <td>M</td>\n",
       "      <td>67.00</td>\n",
       "      <td>Others</td>\n",
       "      <td>91.00</td>\n",
       "      <td>Others</td>\n",
       "      <td>Commerce</td>\n",
       "      <td>58.00</td>\n",
       "      <td>Sci&amp;Tech</td>\n",
       "      <td>No</td>\n",
       "      <td>55.0</td>\n",
       "      <td>Mkt&amp;HR</td>\n",
       "      <td>58.80</td>\n",
       "      <td>Placed</td>\n",
       "    </tr>\n",
       "    <tr>\n",
       "      <th>1</th>\n",
       "      <td>M</td>\n",
       "      <td>79.33</td>\n",
       "      <td>Central</td>\n",
       "      <td>78.33</td>\n",
       "      <td>Others</td>\n",
       "      <td>Science</td>\n",
       "      <td>77.48</td>\n",
       "      <td>Sci&amp;Tech</td>\n",
       "      <td>Yes</td>\n",
       "      <td>86.5</td>\n",
       "      <td>Mkt&amp;Fin</td>\n",
       "      <td>66.28</td>\n",
       "      <td>Placed</td>\n",
       "    </tr>\n",
       "    <tr>\n",
       "      <th>2</th>\n",
       "      <td>M</td>\n",
       "      <td>65.00</td>\n",
       "      <td>Central</td>\n",
       "      <td>68.00</td>\n",
       "      <td>Central</td>\n",
       "      <td>Arts</td>\n",
       "      <td>64.00</td>\n",
       "      <td>Comm&amp;Mgmt</td>\n",
       "      <td>No</td>\n",
       "      <td>75.0</td>\n",
       "      <td>Mkt&amp;Fin</td>\n",
       "      <td>57.80</td>\n",
       "      <td>Placed</td>\n",
       "    </tr>\n",
       "    <tr>\n",
       "      <th>3</th>\n",
       "      <td>M</td>\n",
       "      <td>56.00</td>\n",
       "      <td>Central</td>\n",
       "      <td>52.00</td>\n",
       "      <td>Central</td>\n",
       "      <td>Science</td>\n",
       "      <td>52.00</td>\n",
       "      <td>Sci&amp;Tech</td>\n",
       "      <td>No</td>\n",
       "      <td>66.0</td>\n",
       "      <td>Mkt&amp;HR</td>\n",
       "      <td>59.43</td>\n",
       "      <td>Not Placed</td>\n",
       "    </tr>\n",
       "    <tr>\n",
       "      <th>4</th>\n",
       "      <td>M</td>\n",
       "      <td>85.80</td>\n",
       "      <td>Central</td>\n",
       "      <td>73.60</td>\n",
       "      <td>Central</td>\n",
       "      <td>Commerce</td>\n",
       "      <td>73.30</td>\n",
       "      <td>Comm&amp;Mgmt</td>\n",
       "      <td>No</td>\n",
       "      <td>96.8</td>\n",
       "      <td>Mkt&amp;Fin</td>\n",
       "      <td>55.50</td>\n",
       "      <td>Placed</td>\n",
       "    </tr>\n",
       "    <tr>\n",
       "      <th>...</th>\n",
       "      <td>...</td>\n",
       "      <td>...</td>\n",
       "      <td>...</td>\n",
       "      <td>...</td>\n",
       "      <td>...</td>\n",
       "      <td>...</td>\n",
       "      <td>...</td>\n",
       "      <td>...</td>\n",
       "      <td>...</td>\n",
       "      <td>...</td>\n",
       "      <td>...</td>\n",
       "      <td>...</td>\n",
       "      <td>...</td>\n",
       "    </tr>\n",
       "    <tr>\n",
       "      <th>210</th>\n",
       "      <td>M</td>\n",
       "      <td>80.60</td>\n",
       "      <td>Others</td>\n",
       "      <td>82.00</td>\n",
       "      <td>Others</td>\n",
       "      <td>Commerce</td>\n",
       "      <td>77.60</td>\n",
       "      <td>Comm&amp;Mgmt</td>\n",
       "      <td>No</td>\n",
       "      <td>91.0</td>\n",
       "      <td>Mkt&amp;Fin</td>\n",
       "      <td>74.49</td>\n",
       "      <td>Placed</td>\n",
       "    </tr>\n",
       "    <tr>\n",
       "      <th>211</th>\n",
       "      <td>M</td>\n",
       "      <td>58.00</td>\n",
       "      <td>Others</td>\n",
       "      <td>60.00</td>\n",
       "      <td>Others</td>\n",
       "      <td>Science</td>\n",
       "      <td>72.00</td>\n",
       "      <td>Sci&amp;Tech</td>\n",
       "      <td>No</td>\n",
       "      <td>74.0</td>\n",
       "      <td>Mkt&amp;Fin</td>\n",
       "      <td>53.62</td>\n",
       "      <td>Placed</td>\n",
       "    </tr>\n",
       "    <tr>\n",
       "      <th>212</th>\n",
       "      <td>M</td>\n",
       "      <td>67.00</td>\n",
       "      <td>Others</td>\n",
       "      <td>67.00</td>\n",
       "      <td>Others</td>\n",
       "      <td>Commerce</td>\n",
       "      <td>73.00</td>\n",
       "      <td>Comm&amp;Mgmt</td>\n",
       "      <td>Yes</td>\n",
       "      <td>59.0</td>\n",
       "      <td>Mkt&amp;Fin</td>\n",
       "      <td>69.72</td>\n",
       "      <td>Placed</td>\n",
       "    </tr>\n",
       "    <tr>\n",
       "      <th>213</th>\n",
       "      <td>F</td>\n",
       "      <td>74.00</td>\n",
       "      <td>Others</td>\n",
       "      <td>66.00</td>\n",
       "      <td>Others</td>\n",
       "      <td>Commerce</td>\n",
       "      <td>58.00</td>\n",
       "      <td>Comm&amp;Mgmt</td>\n",
       "      <td>No</td>\n",
       "      <td>70.0</td>\n",
       "      <td>Mkt&amp;HR</td>\n",
       "      <td>60.23</td>\n",
       "      <td>Placed</td>\n",
       "    </tr>\n",
       "    <tr>\n",
       "      <th>214</th>\n",
       "      <td>M</td>\n",
       "      <td>62.00</td>\n",
       "      <td>Central</td>\n",
       "      <td>58.00</td>\n",
       "      <td>Others</td>\n",
       "      <td>Science</td>\n",
       "      <td>53.00</td>\n",
       "      <td>Comm&amp;Mgmt</td>\n",
       "      <td>No</td>\n",
       "      <td>89.0</td>\n",
       "      <td>Mkt&amp;HR</td>\n",
       "      <td>60.22</td>\n",
       "      <td>Not Placed</td>\n",
       "    </tr>\n",
       "  </tbody>\n",
       "</table>\n",
       "<p>215 rows × 13 columns</p>\n",
       "</div>"
      ],
      "text/plain": [
       "    gender  ssc_percentage ssc_board  hsc_percentage hsc_board hsc_subject  \\\n",
       "0        M           67.00    Others           91.00    Others    Commerce   \n",
       "1        M           79.33   Central           78.33    Others     Science   \n",
       "2        M           65.00   Central           68.00   Central        Arts   \n",
       "3        M           56.00   Central           52.00   Central     Science   \n",
       "4        M           85.80   Central           73.60   Central    Commerce   \n",
       "..     ...             ...       ...             ...       ...         ...   \n",
       "210      M           80.60    Others           82.00    Others    Commerce   \n",
       "211      M           58.00    Others           60.00    Others     Science   \n",
       "212      M           67.00    Others           67.00    Others    Commerce   \n",
       "213      F           74.00    Others           66.00    Others    Commerce   \n",
       "214      M           62.00   Central           58.00    Others     Science   \n",
       "\n",
       "     degree_percentage undergrad_degree work_experience  emp_test_percentage  \\\n",
       "0                58.00         Sci&Tech              No                 55.0   \n",
       "1                77.48         Sci&Tech             Yes                 86.5   \n",
       "2                64.00        Comm&Mgmt              No                 75.0   \n",
       "3                52.00         Sci&Tech              No                 66.0   \n",
       "4                73.30        Comm&Mgmt              No                 96.8   \n",
       "..                 ...              ...             ...                  ...   \n",
       "210              77.60        Comm&Mgmt              No                 91.0   \n",
       "211              72.00         Sci&Tech              No                 74.0   \n",
       "212              73.00        Comm&Mgmt             Yes                 59.0   \n",
       "213              58.00        Comm&Mgmt              No                 70.0   \n",
       "214              53.00        Comm&Mgmt              No                 89.0   \n",
       "\n",
       "    specialisation  mba_percent      status  \n",
       "0           Mkt&HR        58.80      Placed  \n",
       "1          Mkt&Fin        66.28      Placed  \n",
       "2          Mkt&Fin        57.80      Placed  \n",
       "3           Mkt&HR        59.43  Not Placed  \n",
       "4          Mkt&Fin        55.50      Placed  \n",
       "..             ...          ...         ...  \n",
       "210        Mkt&Fin        74.49      Placed  \n",
       "211        Mkt&Fin        53.62      Placed  \n",
       "212        Mkt&Fin        69.72      Placed  \n",
       "213         Mkt&HR        60.23      Placed  \n",
       "214         Mkt&HR        60.22  Not Placed  \n",
       "\n",
       "[215 rows x 13 columns]"
      ]
     },
     "execution_count": 3,
     "metadata": {},
     "output_type": "execute_result"
    }
   ],
   "source": [
    "df=raw.copy()\n",
    "df"
   ]
  },
  {
   "cell_type": "markdown",
   "id": "db152ee3",
   "metadata": {},
   "source": [
    "#### Column info"
   ]
  },
  {
   "cell_type": "markdown",
   "id": "447b3385",
   "metadata": {},
   "source": [
    "| Column Name         | Full Name / Meaning                                                                 |\n",
    "| --------------------| ----------------------------------------------------------------------------------- |\n",
    "| gender              | Gender of the student (Male or Female)                                              |\n",
    "| ssc_percentage      | Secondary School Certificate (10th grade) marks percentage                          |\n",
    "| ssc_board           | Education board of the student for 10th grade (e.g., Central, Others)               |\n",
    "| hsc_percentage      | Higher Secondary Certificate (12th grade) marks percentage                          |\n",
    "| hsc_board           | Education board of the student for 12th grade (e.g., Central, Others)               |\n",
    "| hsc_subject         | Stream chosen in 12th grade (e.g., Science, Commerce, Arts)                         |\n",
    "| degree_percentage   | Percentage scored in undergraduate degree                                           |\n",
    "| undergrad_degree    | Field of study in undergraduate degree (e.g., Science & Technology, Commerce, Arts) |\n",
    "| work_experience     | Whether the student has prior work experience (Yes/No)                              |\n",
    "| emp_test_percentage | Score obtained in the employability test conducted by the institute                 |\n",
    "| specialisation      | MBA specialization (e.g., Marketing & HR, Marketing & Finance)                      |\n",
    "| mba_percent         | Percentage scored in MBA                                                            |\n",
    "| status              | Placement status (Placed or Not Placed)                                             |\n"
   ]
  },
  {
   "cell_type": "markdown",
   "id": "f2d9fbe7",
   "metadata": {},
   "source": [
    "                                                      Basic Checks"
   ]
  },
  {
   "cell_type": "code",
   "execution_count": 4,
   "id": "66af6c3a",
   "metadata": {},
   "outputs": [
    {
     "name": "stdout",
     "output_type": "stream",
     "text": [
      "<class 'pandas.core.frame.DataFrame'>\n",
      "RangeIndex: 215 entries, 0 to 214\n",
      "Data columns (total 13 columns):\n",
      " #   Column               Non-Null Count  Dtype  \n",
      "---  ------               --------------  -----  \n",
      " 0   gender               215 non-null    object \n",
      " 1   ssc_percentage       215 non-null    float64\n",
      " 2   ssc_board            215 non-null    object \n",
      " 3   hsc_percentage       215 non-null    float64\n",
      " 4   hsc_board            215 non-null    object \n",
      " 5   hsc_subject          215 non-null    object \n",
      " 6   degree_percentage    215 non-null    float64\n",
      " 7   undergrad_degree     215 non-null    object \n",
      " 8   work_experience      215 non-null    object \n",
      " 9   emp_test_percentage  215 non-null    float64\n",
      " 10  specialisation       215 non-null    object \n",
      " 11  mba_percent          215 non-null    float64\n",
      " 12  status               215 non-null    object \n",
      "dtypes: float64(5), object(8)\n",
      "memory usage: 22.0+ KB\n"
     ]
    }
   ],
   "source": [
    "df.info()"
   ]
  },
  {
   "cell_type": "markdown",
   "id": "47a332b7",
   "metadata": {},
   "source": [
    "### Data Validation and Understanding\n",
    "\n",
    "Before performing any analysis, it's important to validate the dataset to ensure its accuracy, completeness, and reliability. In this step, I examine each column for missing values, inconsistent entries, incorrect data types, and outliers. This helps establish trust in the data and guides how I will clean or transform it."
   ]
  },
  {
   "cell_type": "code",
   "execution_count": 5,
   "id": "daa60e10",
   "metadata": {},
   "outputs": [
    {
     "name": "stdout",
     "output_type": "stream",
     "text": [
      "\u001b[1;32m============= Dataset Structure Analysis ============\u001b[0m\n",
      "\n",
      "Total rows:  215\n",
      "Total columns:  13\n",
      "\n",
      "\u001b[1;32m============= Missing Values Analysis ============\u001b[0m\n",
      "\n",
      "No missing values found in the dataset!\n",
      "\n",
      "\u001b[1;32m============= Categorical Columns Distribution ============\u001b[0m\n",
      "\u001b[1;35m\n",
      "gender value counts:\u001b[0m\n",
      "M    139\n",
      "F     76\n",
      "Name: gender, dtype: int64\n",
      "\n",
      "\u001b[1;35m\n",
      "ssc_board value counts:\u001b[0m\n",
      "Central    116\n",
      "Others      99\n",
      "Name: ssc_board, dtype: int64\n",
      "\n",
      "\u001b[1;35m\n",
      "hsc_board value counts:\u001b[0m\n",
      "Others     131\n",
      "Central     84\n",
      "Name: hsc_board, dtype: int64\n",
      "\n",
      "\u001b[1;35m\n",
      "hsc_subject value counts:\u001b[0m\n",
      "Commerce    113\n",
      "Science      91\n",
      "Arts         11\n",
      "Name: hsc_subject, dtype: int64\n",
      "\n",
      "\u001b[1;35m\n",
      "undergrad_degree value counts:\u001b[0m\n",
      "Comm&Mgmt    145\n",
      "Sci&Tech      59\n",
      "Others        11\n",
      "Name: undergrad_degree, dtype: int64\n",
      "\n",
      "\u001b[1;35m\n",
      "work_experience value counts:\u001b[0m\n",
      "No     141\n",
      "Yes     74\n",
      "Name: work_experience, dtype: int64\n",
      "\n",
      "\u001b[1;35m\n",
      "specialisation value counts:\u001b[0m\n",
      "Mkt&Fin    120\n",
      "Mkt&HR      95\n",
      "Name: specialisation, dtype: int64\n",
      "\n",
      "\u001b[1;35m\n",
      "status value counts:\u001b[0m\n",
      "Placed        148\n",
      "Not Placed     67\n",
      "Name: status, dtype: int64\n",
      "\n",
      "\n",
      "\u001b[1;32m============= Object Columns That Might Be Numeric ============\u001b[0m\n",
      "\n",
      "\u001b[1;32m============= Categorical Summary ============\u001b[0m\n",
      "\n",
      "\u001b[1;35m\n",
      "gender:\u001b[0m\n"
     ]
    },
    {
     "data": {
      "text/html": [
       "<div>\n",
       "<style scoped>\n",
       "    .dataframe tbody tr th:only-of-type {\n",
       "        vertical-align: middle;\n",
       "    }\n",
       "\n",
       "    .dataframe tbody tr th {\n",
       "        vertical-align: top;\n",
       "    }\n",
       "\n",
       "    .dataframe thead th {\n",
       "        text-align: right;\n",
       "    }\n",
       "</style>\n",
       "<table border=\"1\" class=\"dataframe\">\n",
       "  <thead>\n",
       "    <tr style=\"text-align: right;\">\n",
       "      <th></th>\n",
       "      <th>Count</th>\n",
       "      <th>Percentage (%)</th>\n",
       "    </tr>\n",
       "  </thead>\n",
       "  <tbody>\n",
       "    <tr>\n",
       "      <th>M</th>\n",
       "      <td>139</td>\n",
       "      <td>64.65</td>\n",
       "    </tr>\n",
       "    <tr>\n",
       "      <th>F</th>\n",
       "      <td>76</td>\n",
       "      <td>35.35</td>\n",
       "    </tr>\n",
       "  </tbody>\n",
       "</table>\n",
       "</div>"
      ],
      "text/plain": [
       "   Count  Percentage (%)\n",
       "M    139           64.65\n",
       "F     76           35.35"
      ]
     },
     "metadata": {},
     "output_type": "display_data"
    },
    {
     "name": "stdout",
     "output_type": "stream",
     "text": [
      "\u001b[1;35m\n",
      "ssc_board:\u001b[0m\n"
     ]
    },
    {
     "data": {
      "text/html": [
       "<div>\n",
       "<style scoped>\n",
       "    .dataframe tbody tr th:only-of-type {\n",
       "        vertical-align: middle;\n",
       "    }\n",
       "\n",
       "    .dataframe tbody tr th {\n",
       "        vertical-align: top;\n",
       "    }\n",
       "\n",
       "    .dataframe thead th {\n",
       "        text-align: right;\n",
       "    }\n",
       "</style>\n",
       "<table border=\"1\" class=\"dataframe\">\n",
       "  <thead>\n",
       "    <tr style=\"text-align: right;\">\n",
       "      <th></th>\n",
       "      <th>Count</th>\n",
       "      <th>Percentage (%)</th>\n",
       "    </tr>\n",
       "  </thead>\n",
       "  <tbody>\n",
       "    <tr>\n",
       "      <th>Central</th>\n",
       "      <td>116</td>\n",
       "      <td>53.95</td>\n",
       "    </tr>\n",
       "    <tr>\n",
       "      <th>Others</th>\n",
       "      <td>99</td>\n",
       "      <td>46.05</td>\n",
       "    </tr>\n",
       "  </tbody>\n",
       "</table>\n",
       "</div>"
      ],
      "text/plain": [
       "         Count  Percentage (%)\n",
       "Central    116           53.95\n",
       "Others      99           46.05"
      ]
     },
     "metadata": {},
     "output_type": "display_data"
    },
    {
     "name": "stdout",
     "output_type": "stream",
     "text": [
      "\u001b[1;35m\n",
      "hsc_board:\u001b[0m\n"
     ]
    },
    {
     "data": {
      "text/html": [
       "<div>\n",
       "<style scoped>\n",
       "    .dataframe tbody tr th:only-of-type {\n",
       "        vertical-align: middle;\n",
       "    }\n",
       "\n",
       "    .dataframe tbody tr th {\n",
       "        vertical-align: top;\n",
       "    }\n",
       "\n",
       "    .dataframe thead th {\n",
       "        text-align: right;\n",
       "    }\n",
       "</style>\n",
       "<table border=\"1\" class=\"dataframe\">\n",
       "  <thead>\n",
       "    <tr style=\"text-align: right;\">\n",
       "      <th></th>\n",
       "      <th>Count</th>\n",
       "      <th>Percentage (%)</th>\n",
       "    </tr>\n",
       "  </thead>\n",
       "  <tbody>\n",
       "    <tr>\n",
       "      <th>Others</th>\n",
       "      <td>131</td>\n",
       "      <td>60.93</td>\n",
       "    </tr>\n",
       "    <tr>\n",
       "      <th>Central</th>\n",
       "      <td>84</td>\n",
       "      <td>39.07</td>\n",
       "    </tr>\n",
       "  </tbody>\n",
       "</table>\n",
       "</div>"
      ],
      "text/plain": [
       "         Count  Percentage (%)\n",
       "Others     131           60.93\n",
       "Central     84           39.07"
      ]
     },
     "metadata": {},
     "output_type": "display_data"
    },
    {
     "name": "stdout",
     "output_type": "stream",
     "text": [
      "\u001b[1;35m\n",
      "hsc_subject:\u001b[0m\n"
     ]
    },
    {
     "data": {
      "text/html": [
       "<div>\n",
       "<style scoped>\n",
       "    .dataframe tbody tr th:only-of-type {\n",
       "        vertical-align: middle;\n",
       "    }\n",
       "\n",
       "    .dataframe tbody tr th {\n",
       "        vertical-align: top;\n",
       "    }\n",
       "\n",
       "    .dataframe thead th {\n",
       "        text-align: right;\n",
       "    }\n",
       "</style>\n",
       "<table border=\"1\" class=\"dataframe\">\n",
       "  <thead>\n",
       "    <tr style=\"text-align: right;\">\n",
       "      <th></th>\n",
       "      <th>Count</th>\n",
       "      <th>Percentage (%)</th>\n",
       "    </tr>\n",
       "  </thead>\n",
       "  <tbody>\n",
       "    <tr>\n",
       "      <th>Commerce</th>\n",
       "      <td>113</td>\n",
       "      <td>52.56</td>\n",
       "    </tr>\n",
       "    <tr>\n",
       "      <th>Science</th>\n",
       "      <td>91</td>\n",
       "      <td>42.33</td>\n",
       "    </tr>\n",
       "    <tr>\n",
       "      <th>Arts</th>\n",
       "      <td>11</td>\n",
       "      <td>5.12</td>\n",
       "    </tr>\n",
       "  </tbody>\n",
       "</table>\n",
       "</div>"
      ],
      "text/plain": [
       "          Count  Percentage (%)\n",
       "Commerce    113           52.56\n",
       "Science      91           42.33\n",
       "Arts         11            5.12"
      ]
     },
     "metadata": {},
     "output_type": "display_data"
    },
    {
     "name": "stdout",
     "output_type": "stream",
     "text": [
      "\u001b[1;35m\n",
      "undergrad_degree:\u001b[0m\n"
     ]
    },
    {
     "data": {
      "text/html": [
       "<div>\n",
       "<style scoped>\n",
       "    .dataframe tbody tr th:only-of-type {\n",
       "        vertical-align: middle;\n",
       "    }\n",
       "\n",
       "    .dataframe tbody tr th {\n",
       "        vertical-align: top;\n",
       "    }\n",
       "\n",
       "    .dataframe thead th {\n",
       "        text-align: right;\n",
       "    }\n",
       "</style>\n",
       "<table border=\"1\" class=\"dataframe\">\n",
       "  <thead>\n",
       "    <tr style=\"text-align: right;\">\n",
       "      <th></th>\n",
       "      <th>Count</th>\n",
       "      <th>Percentage (%)</th>\n",
       "    </tr>\n",
       "  </thead>\n",
       "  <tbody>\n",
       "    <tr>\n",
       "      <th>Comm&amp;Mgmt</th>\n",
       "      <td>145</td>\n",
       "      <td>67.44</td>\n",
       "    </tr>\n",
       "    <tr>\n",
       "      <th>Sci&amp;Tech</th>\n",
       "      <td>59</td>\n",
       "      <td>27.44</td>\n",
       "    </tr>\n",
       "    <tr>\n",
       "      <th>Others</th>\n",
       "      <td>11</td>\n",
       "      <td>5.12</td>\n",
       "    </tr>\n",
       "  </tbody>\n",
       "</table>\n",
       "</div>"
      ],
      "text/plain": [
       "           Count  Percentage (%)\n",
       "Comm&Mgmt    145           67.44\n",
       "Sci&Tech      59           27.44\n",
       "Others        11            5.12"
      ]
     },
     "metadata": {},
     "output_type": "display_data"
    },
    {
     "name": "stdout",
     "output_type": "stream",
     "text": [
      "\u001b[1;35m\n",
      "work_experience:\u001b[0m\n"
     ]
    },
    {
     "data": {
      "text/html": [
       "<div>\n",
       "<style scoped>\n",
       "    .dataframe tbody tr th:only-of-type {\n",
       "        vertical-align: middle;\n",
       "    }\n",
       "\n",
       "    .dataframe tbody tr th {\n",
       "        vertical-align: top;\n",
       "    }\n",
       "\n",
       "    .dataframe thead th {\n",
       "        text-align: right;\n",
       "    }\n",
       "</style>\n",
       "<table border=\"1\" class=\"dataframe\">\n",
       "  <thead>\n",
       "    <tr style=\"text-align: right;\">\n",
       "      <th></th>\n",
       "      <th>Count</th>\n",
       "      <th>Percentage (%)</th>\n",
       "    </tr>\n",
       "  </thead>\n",
       "  <tbody>\n",
       "    <tr>\n",
       "      <th>No</th>\n",
       "      <td>141</td>\n",
       "      <td>65.58</td>\n",
       "    </tr>\n",
       "    <tr>\n",
       "      <th>Yes</th>\n",
       "      <td>74</td>\n",
       "      <td>34.42</td>\n",
       "    </tr>\n",
       "  </tbody>\n",
       "</table>\n",
       "</div>"
      ],
      "text/plain": [
       "     Count  Percentage (%)\n",
       "No     141           65.58\n",
       "Yes     74           34.42"
      ]
     },
     "metadata": {},
     "output_type": "display_data"
    },
    {
     "name": "stdout",
     "output_type": "stream",
     "text": [
      "\u001b[1;35m\n",
      "specialisation:\u001b[0m\n"
     ]
    },
    {
     "data": {
      "text/html": [
       "<div>\n",
       "<style scoped>\n",
       "    .dataframe tbody tr th:only-of-type {\n",
       "        vertical-align: middle;\n",
       "    }\n",
       "\n",
       "    .dataframe tbody tr th {\n",
       "        vertical-align: top;\n",
       "    }\n",
       "\n",
       "    .dataframe thead th {\n",
       "        text-align: right;\n",
       "    }\n",
       "</style>\n",
       "<table border=\"1\" class=\"dataframe\">\n",
       "  <thead>\n",
       "    <tr style=\"text-align: right;\">\n",
       "      <th></th>\n",
       "      <th>Count</th>\n",
       "      <th>Percentage (%)</th>\n",
       "    </tr>\n",
       "  </thead>\n",
       "  <tbody>\n",
       "    <tr>\n",
       "      <th>Mkt&amp;Fin</th>\n",
       "      <td>120</td>\n",
       "      <td>55.81</td>\n",
       "    </tr>\n",
       "    <tr>\n",
       "      <th>Mkt&amp;HR</th>\n",
       "      <td>95</td>\n",
       "      <td>44.19</td>\n",
       "    </tr>\n",
       "  </tbody>\n",
       "</table>\n",
       "</div>"
      ],
      "text/plain": [
       "         Count  Percentage (%)\n",
       "Mkt&Fin    120           55.81\n",
       "Mkt&HR      95           44.19"
      ]
     },
     "metadata": {},
     "output_type": "display_data"
    },
    {
     "name": "stdout",
     "output_type": "stream",
     "text": [
      "\u001b[1;35m\n",
      "status:\u001b[0m\n"
     ]
    },
    {
     "data": {
      "text/html": [
       "<div>\n",
       "<style scoped>\n",
       "    .dataframe tbody tr th:only-of-type {\n",
       "        vertical-align: middle;\n",
       "    }\n",
       "\n",
       "    .dataframe tbody tr th {\n",
       "        vertical-align: top;\n",
       "    }\n",
       "\n",
       "    .dataframe thead th {\n",
       "        text-align: right;\n",
       "    }\n",
       "</style>\n",
       "<table border=\"1\" class=\"dataframe\">\n",
       "  <thead>\n",
       "    <tr style=\"text-align: right;\">\n",
       "      <th></th>\n",
       "      <th>Count</th>\n",
       "      <th>Percentage (%)</th>\n",
       "    </tr>\n",
       "  </thead>\n",
       "  <tbody>\n",
       "    <tr>\n",
       "      <th>Placed</th>\n",
       "      <td>148</td>\n",
       "      <td>68.84</td>\n",
       "    </tr>\n",
       "    <tr>\n",
       "      <th>Not Placed</th>\n",
       "      <td>67</td>\n",
       "      <td>31.16</td>\n",
       "    </tr>\n",
       "  </tbody>\n",
       "</table>\n",
       "</div>"
      ],
      "text/plain": [
       "            Count  Percentage (%)\n",
       "Placed        148           68.84\n",
       "Not Placed     67           31.16"
      ]
     },
     "metadata": {},
     "output_type": "display_data"
    }
   ],
   "source": [
    "# Missing Values\n",
    "missing_values = df.isnull().sum()\n",
    "missing_percentage = (missing_values / len(df)) * 100\n",
    "\n",
    "print(green(\"============= Dataset Structure Analysis ============\",['bold']))\n",
    "print()\n",
    "print(\"Total rows: \",len(df))\n",
    "print(\"Total columns: \",len(df.columns))\n",
    "\n",
    "print()\n",
    "print(green(\"============= Missing Values Analysis ============\",['bold']))\n",
    "print()\n",
    "missing_info = pd.DataFrame(\n",
    "    {\n",
    "    \"Missing Values\": missing_values,\n",
    "    \"Percentage\": missing_percentage\n",
    "     }).query('`Missing Values` > 0')\n",
    "\n",
    "if not missing_info.empty:\n",
    "    display(missing_info)\n",
    "else:\n",
    "    print('No missing values found in the dataset!')\n",
    "\n",
    "\n",
    "# Check categorical distributions\n",
    "categorical_cols = df.select_dtypes(include='object').columns\n",
    "print()\n",
    "print(green(\"============= Categorical Columns Distribution ============\",['bold']))\n",
    "for col in categorical_cols:\n",
    "    print(magenta(f'\\n{col} value counts:',['bold']))\n",
    "    print(df[col].value_counts())\n",
    "    print()\n",
    "\n",
    "# Check if any object-type column can be converted to numeric\n",
    "print()\n",
    "print(green(\"============= Object Columns That Might Be Numeric ============\",['bold']))\n",
    "for col in df.columns:\n",
    "    if df[col].dtype == 'object':\n",
    "        try:\n",
    "            pd.to_numeric(df[col], errors='raise')\n",
    "            print(f\"Column '{col}' can be converted to numeric.\")\n",
    "        except:\n",
    "            continue\n",
    "\n",
    "# Summary of Categorical Variables\n",
    "def summarize_categorical(df):\n",
    "    print()\n",
    "    print(green(\"============= Categorical Summary ============\",['bold']))\n",
    "    print()\n",
    "    for col in categorical_cols:\n",
    "        print(magenta(f'\\n{col}:',['bold']))\n",
    "        value_counts = df[col].value_counts()\n",
    "        percentage = df[col].value_counts(normalize=True) * 100\n",
    "        summary = pd.DataFrame({'Count': value_counts, 'Percentage (%)': percentage.round(2)})\n",
    "        display(summary)\n",
    "\n",
    "summarize_categorical(df)"
   ]
  },
  {
   "cell_type": "markdown",
   "id": "93b6e2cb",
   "metadata": {},
   "source": [
    "### Manual Column-wise Data Validation\n",
    "\n",
    "As part of the data validation process, I manually reviewed each column in the dataset to understand the unique values, spot potential anomalies, and ensure consistency in categorical entries. This step helps identify data quality issues like inconsistent spelling, case sensitivity, and unexpected values."
   ]
  },
  {
   "cell_type": "code",
   "execution_count": 6,
   "id": "45ff67c1",
   "metadata": {},
   "outputs": [],
   "source": [
    "def colValidate(df,col):\n",
    "    print(f\"column : {col}\")\n",
    "    print()\n",
    "    print(f\"Number of unique values in column: {df[col].nunique()}\")\n",
    "    print()\n",
    "    print(\"Unique Values:\")\n",
    "    if df[col].nunique() >=100:\n",
    "        for i in range(0,df[col].nunique(),100):\n",
    "            print(df[col].unique()[i:i+100])\n",
    "            print()\n",
    "    else:\n",
    "        print(df[col].unique())\n",
    "        print()\n",
    "    print(f\"Data type of column:{df[col].dtype}\")\n",
    "    print()"
   ]
  },
  {
   "cell_type": "markdown",
   "id": "012af53f",
   "metadata": {},
   "source": [
    "#### Gender"
   ]
  },
  {
   "cell_type": "code",
   "execution_count": 7,
   "id": "baa9c9fd",
   "metadata": {},
   "outputs": [
    {
     "name": "stdout",
     "output_type": "stream",
     "text": [
      "column : gender\n",
      "\n",
      "Number of unique values in column: 2\n",
      "\n",
      "Unique Values:\n",
      "['M' 'F']\n",
      "\n",
      "Data type of column:object\n",
      "\n"
     ]
    }
   ],
   "source": [
    "colValidate(df,'gender')"
   ]
  },
  {
   "cell_type": "markdown",
   "id": "13d92efb",
   "metadata": {},
   "source": [
    "#### ssc_percentage"
   ]
  },
  {
   "cell_type": "code",
   "execution_count": 8,
   "id": "e95411e0",
   "metadata": {},
   "outputs": [
    {
     "name": "stdout",
     "output_type": "stream",
     "text": [
      "column : ssc_percentage\n",
      "\n",
      "Number of unique values in column: 103\n",
      "\n",
      "Unique Values:\n",
      "[67.   79.33 65.   56.   85.8  55.   46.   82.   73.   58.   69.6  47.\n",
      " 77.   62.   63.   60.   79.   69.8  77.4  76.5  52.58 71.   76.76 64.\n",
      " 61.   87.   69.   51.   81.   78.   74.   49.   76.   70.89 50.   75.2\n",
      " 54.4  40.89 80.   60.4  68.   52.6  84.2  86.5  54.   83.   80.92 69.7\n",
      " 75.   84.86 64.6  56.6  59.   66.5  84.   81.7  70.   83.84 59.6  66.\n",
      " 85.   52.   60.23 70.5  45.   61.08 69.5  73.96 68.2  60.8  72.   80.4\n",
      " 76.7  74.9  77.44 77.67 89.4  44.   75.4  53.   51.57 55.6  74.2  67.16\n",
      " 63.3  67.9  48.   59.96 63.4  73.24 77.8  56.28 88.   78.5  61.8  65.2\n",
      " 83.96 54.2  55.68 41.  ]\n",
      "\n",
      "[83.33 43.   80.6 ]\n",
      "\n",
      "Data type of column:float64\n",
      "\n"
     ]
    }
   ],
   "source": [
    "colValidate(df,'ssc_percentage')"
   ]
  },
  {
   "cell_type": "markdown",
   "id": "f26c4397",
   "metadata": {},
   "source": [
    "#### SSC Board"
   ]
  },
  {
   "cell_type": "code",
   "execution_count": 9,
   "id": "5cf8fbb5",
   "metadata": {},
   "outputs": [
    {
     "name": "stdout",
     "output_type": "stream",
     "text": [
      "column : ssc_board\n",
      "\n",
      "Number of unique values in column: 2\n",
      "\n",
      "Unique Values:\n",
      "['Others' 'Central']\n",
      "\n",
      "Data type of column:object\n",
      "\n"
     ]
    }
   ],
   "source": [
    "colValidate(df,'ssc_board')"
   ]
  },
  {
   "cell_type": "markdown",
   "id": "57f4c8b0",
   "metadata": {},
   "source": [
    "#### HSC percentage"
   ]
  },
  {
   "cell_type": "code",
   "execution_count": 10,
   "id": "638fdbab",
   "metadata": {},
   "outputs": [
    {
     "name": "stdout",
     "output_type": "stream",
     "text": [
      "column : hsc_percentage\n",
      "\n",
      "Number of unique values in column: 97\n",
      "\n",
      "Unique Values:\n",
      "[91.   78.33 68.   52.   73.6  49.8  49.2  64.   79.   70.   61.   68.4\n",
      " 55.   87.   47.   75.   66.2  67.   66.   65.   76.   60.8  60.   97.7\n",
      " 54.6  76.5  73.5  53.   81.   51.   78.   44.   58.   77.   63.16 39.\n",
      " 73.   71.98 62.   37.   73.2  61.12 45.83 66.6  71.4  65.58 73.4  64.2\n",
      " 74.   78.5  70.29 83.83 64.8  70.4  80.   90.9  63.   89.83 90.   57.\n",
      " 69.   62.5  82.   72.   50.   54.   72.8  40.   66.8  59.   71.   89.7\n",
      " 92.   56.   64.89 65.66 86.   58.66 60.5  74.66 69.4  49.   87.6  72.5\n",
      " 42.16 67.2  50.83 97.   71.5  60.33 62.83 65.5  77.6  70.2  61.4  61.33\n",
      " 42.  ]\n",
      "\n",
      "Data type of column:float64\n",
      "\n"
     ]
    }
   ],
   "source": [
    "colValidate(df,'hsc_percentage')"
   ]
  },
  {
   "cell_type": "markdown",
   "id": "11a27d18",
   "metadata": {},
   "source": [
    "#### HSC Board"
   ]
  },
  {
   "cell_type": "code",
   "execution_count": 11,
   "id": "b2df7995",
   "metadata": {},
   "outputs": [
    {
     "name": "stdout",
     "output_type": "stream",
     "text": [
      "column : hsc_board\n",
      "\n",
      "Number of unique values in column: 2\n",
      "\n",
      "Unique Values:\n",
      "['Others' 'Central']\n",
      "\n",
      "Data type of column:object\n",
      "\n"
     ]
    }
   ],
   "source": [
    "colValidate(df,'hsc_board')"
   ]
  },
  {
   "cell_type": "markdown",
   "id": "037bd714",
   "metadata": {},
   "source": [
    "#### HSC Subjects"
   ]
  },
  {
   "cell_type": "code",
   "execution_count": 12,
   "id": "216cf074",
   "metadata": {},
   "outputs": [
    {
     "name": "stdout",
     "output_type": "stream",
     "text": [
      "column : hsc_subject\n",
      "\n",
      "Number of unique values in column: 3\n",
      "\n",
      "Unique Values:\n",
      "['Commerce' 'Science' 'Arts']\n",
      "\n",
      "Data type of column:object\n",
      "\n"
     ]
    }
   ],
   "source": [
    "colValidate(df,'hsc_subject')"
   ]
  },
  {
   "cell_type": "markdown",
   "id": "96d21b94",
   "metadata": {},
   "source": [
    "#### Degree Percentage"
   ]
  },
  {
   "cell_type": "code",
   "execution_count": 13,
   "id": "e0a8e7cf",
   "metadata": {},
   "outputs": [
    {
     "name": "stdout",
     "output_type": "stream",
     "text": [
      "column : degree_percentage\n",
      "\n",
      "Number of unique values in column: 89\n",
      "\n",
      "Unique Values:\n",
      "[58.   77.48 64.   52.   73.3  67.25 79.   66.   72.   61.   60.   78.3\n",
      " 65.   59.   50.   69.   65.6  70.   85.   72.23 64.74 78.86 50.2  67.5\n",
      " 73.   66.4  81.   57.   80.   68.   68.4  56.2  53.   61.4  74.   72.11\n",
      " 66.89 67.4  75.   67.   72.7  62.   71.   78.   71.72 70.2  77.5  71.93\n",
      " 64.5  77.2  82.   50.8  54.   76.   63.   83.   66.6  64.6  69.6  69.3\n",
      " 64.33 75.5  77.72 77.   69.5  73.43 70.67 71.25 56.   55.   84.   59.9\n",
      " 60.9  57.5  77.25 63.35 61.26 64.27 64.2  62.8  64.21 59.79 54.38 69.2\n",
      " 64.8  56.3  91.   56.87 77.6 ]\n",
      "\n",
      "Data type of column:float64\n",
      "\n"
     ]
    }
   ],
   "source": [
    "colValidate(df,'degree_percentage')"
   ]
  },
  {
   "cell_type": "markdown",
   "id": "bc42b9f5",
   "metadata": {},
   "source": [
    "#### Undergraduate Degree"
   ]
  },
  {
   "cell_type": "code",
   "execution_count": 14,
   "id": "b8b5dbcb",
   "metadata": {},
   "outputs": [
    {
     "name": "stdout",
     "output_type": "stream",
     "text": [
      "column : undergrad_degree\n",
      "\n",
      "Number of unique values in column: 3\n",
      "\n",
      "Unique Values:\n",
      "['Sci&Tech' 'Comm&Mgmt' 'Others']\n",
      "\n",
      "Data type of column:object\n",
      "\n"
     ]
    }
   ],
   "source": [
    "colValidate(df,'undergrad_degree')"
   ]
  },
  {
   "cell_type": "markdown",
   "id": "ae472e02",
   "metadata": {},
   "source": [
    "#### Work Experience"
   ]
  },
  {
   "cell_type": "code",
   "execution_count": 15,
   "id": "4cfcc0c1",
   "metadata": {},
   "outputs": [
    {
     "name": "stdout",
     "output_type": "stream",
     "text": [
      "column : work_experience\n",
      "\n",
      "Number of unique values in column: 2\n",
      "\n",
      "Unique Values:\n",
      "['No' 'Yes']\n",
      "\n",
      "Data type of column:object\n",
      "\n"
     ]
    }
   ],
   "source": [
    "colValidate(df,'work_experience')"
   ]
  },
  {
   "cell_type": "markdown",
   "id": "a66b55a5",
   "metadata": {},
   "source": [
    "#### Employee test percentage"
   ]
  },
  {
   "cell_type": "code",
   "execution_count": 16,
   "id": "452d933f",
   "metadata": {},
   "outputs": [
    {
     "name": "stdout",
     "output_type": "stream",
     "text": [
      "column : emp_test_percentage\n",
      "\n",
      "Number of unique values in column: 100\n",
      "\n",
      "Unique Values:\n",
      "[55.   86.5  75.   66.   96.8  74.28 67.   91.34 54.   62.   60.   68.\n",
      " 76.   72.   50.48 50.   95.   55.53 92.   97.4  94.   73.35 77.   52.\n",
      " 64.   50.89 88.   68.44 71.   58.   53.7  93.   65.   63.   89.   78.\n",
      " 71.2  87.   80.   74.   57.6  61.6  59.   68.5  61.   89.69 68.92 68.71\n",
      " 79.   70.   95.5  86.   84.27 69.   86.04 82.   84.   78.74 53.88 95.46\n",
      " 93.91 56.39 57.5  85.   57.2  72.15 96.   97.   82.66 73.   55.67 80.4\n",
      " 55.5  81.2  90.   74.4  55.6  56.   83.   57.   64.25 98.   56.15 93.4\n",
      " 57.63 75.2  53.04 58.1  54.48 58.06 63.79 87.5  75.5  95.65 59.32 87.55\n",
      " 61.28 88.56 92.66 91.  ]\n",
      "\n",
      "Data type of column:float64\n",
      "\n"
     ]
    }
   ],
   "source": [
    "colValidate(df,'emp_test_percentage')"
   ]
  },
  {
   "cell_type": "markdown",
   "id": "c7aaa154",
   "metadata": {},
   "source": [
    "#### Specialisation"
   ]
  },
  {
   "cell_type": "code",
   "execution_count": 17,
   "id": "0ad1c068",
   "metadata": {},
   "outputs": [
    {
     "name": "stdout",
     "output_type": "stream",
     "text": [
      "column : specialisation\n",
      "\n",
      "Number of unique values in column: 2\n",
      "\n",
      "Unique Values:\n",
      "['Mkt&HR' 'Mkt&Fin']\n",
      "\n",
      "Data type of column:object\n",
      "\n"
     ]
    }
   ],
   "source": [
    "colValidate(df,'specialisation')"
   ]
  },
  {
   "cell_type": "markdown",
   "id": "4174ff46",
   "metadata": {},
   "source": [
    "#### MBA Percentage"
   ]
  },
  {
   "cell_type": "code",
   "execution_count": 18,
   "id": "357fa574",
   "metadata": {},
   "outputs": [
    {
     "name": "stdout",
     "output_type": "stream",
     "text": [
      "column : mba_percent\n",
      "\n",
      "Number of unique values in column: 205\n",
      "\n",
      "Unique Values:\n",
      "[58.8  66.28 57.8  59.43 55.5  51.58 53.29 62.14 61.29 52.21 60.85 63.7\n",
      " 65.04 68.63 54.96 64.66 62.54 67.28 64.08 77.89 56.7  69.06 68.81 63.62\n",
      " 74.01 65.33 57.55 57.69 64.15 51.29 58.32 62.21 72.78 62.77 62.74 51.45\n",
      " 55.47 56.86 62.56 66.72 69.76 51.21 62.9  69.7  66.53 71.63 54.55 62.46\n",
      " 56.11 62.98 62.65 65.49 71.04 65.56 52.71 66.88 63.59 57.99 56.66 57.24\n",
      " 62.48 59.69 59.5  58.78 57.1  58.46 60.99 59.24 68.07 65.45 66.94 68.53\n",
      " 59.75 67.2  67.   64.27 57.65 59.42 67.99 62.35 70.2  60.44 66.69 62.\n",
      " 76.18 57.03 59.08 64.36 62.36 68.03 62.79 59.47 55.41 54.97 62.16 64.44\n",
      " 69.03 57.31 64.95 61.31]\n",
      "\n",
      "[65.83 58.23 55.3  65.69 73.52 58.31 56.09 54.8  60.64 53.94 63.08 55.01\n",
      " 60.5  70.85 67.05 70.48 64.34 58.81 71.49 71.   61.26 73.33 68.2  58.4\n",
      " 76.26 68.55 60.78 53.49 60.98 67.13 65.63 61.58 60.41 71.77 54.43 56.94\n",
      " 61.9  60.39 58.52 63.23 55.14 62.28 58.54 61.3  58.87 65.25 53.2  65.99\n",
      " 52.72 55.03 61.87 60.59 72.29 62.72 66.06 66.46 65.52 74.56 52.38 75.71\n",
      " 58.79 65.48 69.28 66.04 52.64 59.32 66.23 60.69 57.9  70.81 72.14 56.6\n",
      " 60.02 59.81 61.82 57.29 71.43 62.93 64.86 56.13 62.5  61.01 57.34 56.63\n",
      " 64.74 58.95 54.48 69.71 71.96 55.8  52.81 58.44 60.11 58.3  67.69 56.81\n",
      " 53.39 71.55 62.92 56.49]\n",
      "\n",
      "[74.49 53.62 69.72 60.23 60.22]\n",
      "\n",
      "Data type of column:float64\n",
      "\n"
     ]
    }
   ],
   "source": [
    "colValidate(df,'mba_percent')"
   ]
  },
  {
   "cell_type": "markdown",
   "id": "a5bdfe31",
   "metadata": {},
   "source": [
    "#### Status"
   ]
  },
  {
   "cell_type": "code",
   "execution_count": 19,
   "id": "9fb05d31",
   "metadata": {},
   "outputs": [
    {
     "name": "stdout",
     "output_type": "stream",
     "text": [
      "column : status\n",
      "\n",
      "Number of unique values in column: 2\n",
      "\n",
      "Unique Values:\n",
      "['Placed' 'Not Placed']\n",
      "\n",
      "Data type of column:object\n",
      "\n"
     ]
    }
   ],
   "source": [
    "colValidate(df,'status')"
   ]
  },
  {
   "cell_type": "markdown",
   "id": "2616ca75",
   "metadata": {},
   "source": [
    "#### Duplicated rows Check & Handling"
   ]
  },
  {
   "cell_type": "code",
   "execution_count": 20,
   "id": "70734ae1",
   "metadata": {},
   "outputs": [
    {
     "data": {
      "text/html": [
       "<div>\n",
       "<style scoped>\n",
       "    .dataframe tbody tr th:only-of-type {\n",
       "        vertical-align: middle;\n",
       "    }\n",
       "\n",
       "    .dataframe tbody tr th {\n",
       "        vertical-align: top;\n",
       "    }\n",
       "\n",
       "    .dataframe thead th {\n",
       "        text-align: right;\n",
       "    }\n",
       "</style>\n",
       "<table border=\"1\" class=\"dataframe\">\n",
       "  <thead>\n",
       "    <tr style=\"text-align: right;\">\n",
       "      <th></th>\n",
       "      <th>gender</th>\n",
       "      <th>ssc_percentage</th>\n",
       "      <th>ssc_board</th>\n",
       "      <th>hsc_percentage</th>\n",
       "      <th>hsc_board</th>\n",
       "      <th>hsc_subject</th>\n",
       "      <th>degree_percentage</th>\n",
       "      <th>undergrad_degree</th>\n",
       "      <th>work_experience</th>\n",
       "      <th>emp_test_percentage</th>\n",
       "      <th>specialisation</th>\n",
       "      <th>mba_percent</th>\n",
       "      <th>status</th>\n",
       "    </tr>\n",
       "  </thead>\n",
       "  <tbody>\n",
       "  </tbody>\n",
       "</table>\n",
       "</div>"
      ],
      "text/plain": [
       "Empty DataFrame\n",
       "Columns: [gender, ssc_percentage, ssc_board, hsc_percentage, hsc_board, hsc_subject, degree_percentage, undergrad_degree, work_experience, emp_test_percentage, specialisation, mba_percent, status]\n",
       "Index: []"
      ]
     },
     "execution_count": 20,
     "metadata": {},
     "output_type": "execute_result"
    }
   ],
   "source": [
    "df[df.duplicated()]"
   ]
  },
  {
   "cell_type": "markdown",
   "id": "93dd6f9d",
   "metadata": {},
   "source": [
    "- No duplicated rows found in  data"
   ]
  },
  {
   "cell_type": "markdown",
   "id": "e2cd5931",
   "metadata": {},
   "source": [
    "## Exploratory Data Analysis\n"
   ]
  },
  {
   "cell_type": "markdown",
   "id": "b4a753ae",
   "metadata": {},
   "source": [
    "| Column Name         | Type        | Subtype          |\n",
    "| ------------------- | ----------- | ---------------- |\n",
    "| gender              | Categorical | Nominal          |\n",
    "| ssc_percentage      | Numerical   | Continuous       |\n",
    "| ssc_board           | Categorical | Nominal          |\n",
    "| hsc_percentage      | Numerical   | Continuous       |\n",
    "| hsc_board           | Categorical | Nominal          |\n",
    "| hsc_subject         | Categorical | Nominal          |\n",
    "| degree_percentage   | Numerical   | Continuous       |\n",
    "| undergrad_degree    | Categorical | Nominal          |\n",
    "| work_experience     | Categorical | Binary (Nominal) |\n",
    "| emp_test_percentage | Numerical   | Continuous       |\n",
    "| specialisation      | Categorical | Nominal          |\n",
    "| mba_percent         | Numerical   | Continuous       |\n",
    "| status              | Categorical | Binary (Nominal) |\n"
   ]
  },
  {
   "cell_type": "markdown",
   "id": "9f696059",
   "metadata": {},
   "source": [
    "* **Refering to above variable types we can use stats measures & visualizations accordingly to the above techniques,**"
   ]
  },
  {
   "cell_type": "markdown",
   "id": "f885da8d",
   "metadata": {},
   "source": [
    " **Analysis**"
   ]
  },
  {
   "cell_type": "markdown",
   "id": "da0fc482",
   "metadata": {},
   "source": [
    "**Uni-Variate Analysis - Study of Individual Column data**"
   ]
  },
  {
   "cell_type": "markdown",
   "id": "13ed87c0",
   "metadata": {},
   "source": [
    "- Descriptive Stats Univariate measures,\n",
    "    - Numeric\n",
    "        - Discrete\n",
    "            - round(Mean), round(Median), Mode, Five Number Summary, Std, Skewness, Kurtosis\n",
    "        - Continuous\n",
    "            - - Mean, Median, Five Number Summary, Std, Skewness, Kurtosis\n",
    "    - Categorical & Boolean\n",
    "        - nunique\n",
    "        - unique\n",
    "        - FDT\n",
    "        - Mode\n",
    "    - Date Time \n",
    "        - Start Date, End Date, Diff between Start & End Date\n",
    "* Visualizations for Uni-Variate\n",
    "    - Categorical: Comparission: Pie/Bar\n",
    "    - Numerical: Distribution: Hist/Box/Density"
   ]
  },
  {
   "cell_type": "code",
   "execution_count": 21,
   "id": "bf332124",
   "metadata": {},
   "outputs": [
    {
     "data": {
      "text/html": [
       "<div>\n",
       "<style scoped>\n",
       "    .dataframe tbody tr th:only-of-type {\n",
       "        vertical-align: middle;\n",
       "    }\n",
       "\n",
       "    .dataframe tbody tr th {\n",
       "        vertical-align: top;\n",
       "    }\n",
       "\n",
       "    .dataframe thead th {\n",
       "        text-align: right;\n",
       "    }\n",
       "</style>\n",
       "<table border=\"1\" class=\"dataframe\">\n",
       "  <thead>\n",
       "    <tr style=\"text-align: right;\">\n",
       "      <th></th>\n",
       "      <th>gender</th>\n",
       "      <th>ssc_percentage</th>\n",
       "      <th>ssc_board</th>\n",
       "      <th>hsc_percentage</th>\n",
       "      <th>hsc_board</th>\n",
       "      <th>hsc_subject</th>\n",
       "      <th>degree_percentage</th>\n",
       "      <th>undergrad_degree</th>\n",
       "      <th>work_experience</th>\n",
       "      <th>emp_test_percentage</th>\n",
       "      <th>specialisation</th>\n",
       "      <th>mba_percent</th>\n",
       "      <th>status</th>\n",
       "    </tr>\n",
       "  </thead>\n",
       "  <tbody>\n",
       "    <tr>\n",
       "      <th>0</th>\n",
       "      <td>M</td>\n",
       "      <td>67.00</td>\n",
       "      <td>Others</td>\n",
       "      <td>91.00</td>\n",
       "      <td>Others</td>\n",
       "      <td>Commerce</td>\n",
       "      <td>58.00</td>\n",
       "      <td>Sci&amp;Tech</td>\n",
       "      <td>No</td>\n",
       "      <td>55.0</td>\n",
       "      <td>Mkt&amp;HR</td>\n",
       "      <td>58.80</td>\n",
       "      <td>Placed</td>\n",
       "    </tr>\n",
       "    <tr>\n",
       "      <th>1</th>\n",
       "      <td>M</td>\n",
       "      <td>79.33</td>\n",
       "      <td>Central</td>\n",
       "      <td>78.33</td>\n",
       "      <td>Others</td>\n",
       "      <td>Science</td>\n",
       "      <td>77.48</td>\n",
       "      <td>Sci&amp;Tech</td>\n",
       "      <td>Yes</td>\n",
       "      <td>86.5</td>\n",
       "      <td>Mkt&amp;Fin</td>\n",
       "      <td>66.28</td>\n",
       "      <td>Placed</td>\n",
       "    </tr>\n",
       "  </tbody>\n",
       "</table>\n",
       "</div>"
      ],
      "text/plain": [
       "  gender  ssc_percentage ssc_board  hsc_percentage hsc_board hsc_subject  \\\n",
       "0      M           67.00    Others           91.00    Others    Commerce   \n",
       "1      M           79.33   Central           78.33    Others     Science   \n",
       "\n",
       "   degree_percentage undergrad_degree work_experience  emp_test_percentage  \\\n",
       "0              58.00         Sci&Tech              No                 55.0   \n",
       "1              77.48         Sci&Tech             Yes                 86.5   \n",
       "\n",
       "  specialisation  mba_percent  status  \n",
       "0         Mkt&HR        58.80  Placed  \n",
       "1        Mkt&Fin        66.28  Placed  "
      ]
     },
     "execution_count": 21,
     "metadata": {},
     "output_type": "execute_result"
    }
   ],
   "source": [
    "df.head(2)"
   ]
  },
  {
   "cell_type": "markdown",
   "id": "d040680c",
   "metadata": {},
   "source": [
    "**Taking Uni-Variate Descriptive Stats User-Defined Functions**"
   ]
  },
  {
   "cell_type": "code",
   "execution_count": 26,
   "id": "fa5e5a2b",
   "metadata": {},
   "outputs": [],
   "source": [
    "pd.set_option('display.float_format', lambda x: '%.2f' % x) \n",
    "\n",
    "from simple_colors import *\n",
    "\n",
    "############################ Numeric Continuous ############################\n",
    "def ncstudy(df, col):\n",
    "    print(green(\"#######################################################\",['bold']))\n",
    "    print(green(\"Taken Numeric Continuous Column:\",['bold']), black(col,['bold']))\n",
    "    print(green(\"#######################################################\",['bold']))\n",
    "    print()\n",
    "    print(cyan(\"Descriptive Stats:\",['bold']))\n",
    "    print()\n",
    "    print(blue(\"******** Measures of Central Tendancy ************\", ['bold']))\n",
    "    print(magenta(\"Mean:\",['bold']), round(df[col].mean(),2))\n",
    "    print(magenta(\"Median:\",['bold']), df[col].median())\n",
    "    print(magenta(\"Mode:\",['bold']), df[col].mode()[0]) # Taking first value\n",
    "    print()\n",
    "    print(blue(\"******** Measures of Dispersion ************\",['bold']))\n",
    "    print(magenta(\"Range:\",['bold']), df[col].max()-df[col].min())\n",
    "    print(magenta(\"Variance:\",['bold']), round(df[col].var(),2))\n",
    "    print(magenta(\"Standard Deviation:\",['bold']), round(df[col].std(),2))\n",
    "    print(magenta(\"Five Number Summary:\",['bold']))\n",
    "    print(round(df[col].describe(),2)[['min','25%','50%','75%','max']])\n",
    "    print()\n",
    "    print(blue(\"******** Measures of Symmetry ************\",['bold']))\n",
    "    print(magenta(\"Skewness:\",['bold']), round(df[col].skew(),2))\n",
    "    print(magenta(\"Kurtosis:\",['bold']), round(df[col].kurt(),2))\n",
    "    print()\n",
    "    print(cyan(\"Visualization:\",['bold']))\n",
    "    print()\n",
    "    plt.figure(figsize=(8, 2))\n",
    "    sns.boxplot(x=df[col], color='skyblue')\n",
    "    plt.title(f'Boxplot of {col}')\n",
    "    plt.xlabel(col)\n",
    "    plt.grid(True, axis='x')\n",
    "    plt.show()\n",
    "\n",
    "    print()\n",
    "\n",
    "############################## Numeric Discrete #################################\n",
    "def ndstudy(df, col):\n",
    "    print(green(\"#######################################################\",['bold']))\n",
    "    print(green(\"Taken Numeric Discrete Column:\",['bold']), black(col,['bold']))\n",
    "    print(green(\"#######################################################\",['bold']))\n",
    "    print()\n",
    "    print(cyan(\"Uni-Variate Descriptive Stats:\",['bold']))\n",
    "    print()\n",
    "    print(\"******** Measures of Central Tendancy ************\")\n",
    "    print(magenta(\"Mean:\",['bold']), round(df[col].mean()))\n",
    "    print(magenta(\"Median:\",['bold']), round(df[col].median()))\n",
    "    print(magenta(\"Mode:\",['bold']), df[col].mode()[0]) # Taking first value\n",
    "    print()\n",
    "    print(\"******** Measures of Dispersion ************\")\n",
    "    print(magenta(\"Range:\",['bold']), df[col].max()-df[col].min())\n",
    "    print(magenta(\"Variance:\",['bold']), round(df[col].var()))\n",
    "    print(magenta(\"Standard Deviation:\",['bold']), round(df[col].std()))\n",
    "    print(magenta(\"Five Number Summary:\",['bold']))\n",
    "    print(round(data[col].describe())[['min','25%','50%','75%','max']])\n",
    "    print()\n",
    "    print(\"******** Measures of Symmetry ************\")\n",
    "    print(magenta(\"Skewness:\",['bold']), round(df[col].skew(),2))\n",
    "    print(magenta(\"Kurtosis:\",['bold']), round(df[col].kurt(),2))\n",
    "    print()\n",
    "    print(cyan(\"Visualization:\",['bold']))\n",
    "    print()\n",
    "    plt.figure(figsize=(8, 2))\n",
    "    plt.boxplot(df[col].dropna(), vert=False)\n",
    "    plt.title(f'Boxplot of {col}')\n",
    "    plt.xlabel(col)\n",
    "    plt.grid(True)\n",
    "    plt.show()\n",
    "\n",
    "    print()\n",
    "\n",
    "############################# Categorical #######################################\n",
    "def catstudy(df, col):\n",
    "    print(green(\"#######################################################\",['bold']))\n",
    "    print(green(\"Taken Categorical Column:\",['bold']), black(col,['bold']))\n",
    "    print(green(\"#######################################################\",['bold']))\n",
    "    print()\n",
    "    print(cyan(\"Uni-Variate Descriptive Stats:\",['bold']))\n",
    "    print()\n",
    "    print(magenta(\"Number of Categories/Classes in column:\",['bold']), df[col].nunique())\n",
    "    print(magenta(\"Category Names:\",['bold']))\n",
    "    print(df[col].unique())\n",
    "    print()\n",
    "    print(magenta(\"Value Counts (FD) of each Category:\",['bold']))\n",
    "    print(df[col].value_counts())\n",
    "    print()\n",
    "    print(magenta(\"Value Counts of Each Class (FD) as Percentage:\",['bold']))\n",
    "    print(round((df[col].value_counts()/len(df))*100,2))\n",
    "    print()\n",
    "    print(magenta(\"Mode:\",['bold']), df[col].mode()[0])\n",
    "    print()\n",
    "    print(cyan(\"Visualization:\",['bold']))\n",
    "    print()        \n",
    "    print(black(\"Top Catgeories:\", ['bold']))\n",
    "    # Considering only top 10 categories for pie chart\n",
    "    index = df[col].value_counts().sort_values(ascending=False)[0:10].index\n",
    "    vals = df[col].value_counts().sort_values(ascending=False)[0:10].values\n",
    "    plt.figure(figsize=(4, 4))\n",
    "    plt.pie(vals, labels=index, autopct='%1.1f%%', startangle=140)\n",
    "    plt.title(f'Top 10 Categories in {col}')\n",
    "    plt.axis('equal')\n",
    "    plt.show()\n",
    "\n",
    "    print()\n",
    "    \n",
    "######################################## DateTime ######################################\n",
    "def datestudy(df, col):\n",
    "    print(green(\"#######################################################\",['bold']))\n",
    "    print(green(\"Taken Date Column:\",['bold']), black(col,['bold']))\n",
    "    print(green(\"#######################################################\",['bold']))\n",
    "    print()\n",
    "    print(cyan(\"Uni-Variate Descriptive Stats:\",['bold']))\n",
    "    print()\n",
    "    print(magenta(\"Start Date:\",['bold']), df[col].min())\n",
    "    print(magenta(\"End Date:\",['bold']), df[col].max())\n",
    "    print(magenta(\"Total Time Period (in Years):\",['bold']), (df[col].max()-df[col].min()))\n",
    "    print()\n",
    "    print(cyan(\"Visualization:\",['bold']))\n",
    "    print()\n",
    "    index = df[col].value_counts().index\n",
    "    vals = df[col].value_counts().values\n",
    "    plt.figure(figsize=(10, 4))\n",
    "    plt.scatter(index, vals)\n",
    "    plt.title(f'Frequency of Dates in {col}')\n",
    "    plt.xlabel('Date')\n",
    "    plt.ylabel('Count')\n",
    "    plt.xticks(rotation=45)\n",
    "    plt.tight_layout()\n",
    "    plt.grid(True)\n",
    "    plt.show()\n",
    "\n",
    "    print()"
   ]
  },
  {
   "cell_type": "code",
   "execution_count": 29,
   "id": "7719c18f",
   "metadata": {},
   "outputs": [
    {
     "name": "stdout",
     "output_type": "stream",
     "text": [
      "\u001b[1;32m#######################################################\u001b[0m\n",
      "\u001b[1;32mTaken Categorical Column:\u001b[0m \u001b[1;30mgender\u001b[0m\n",
      "\u001b[1;32m#######################################################\u001b[0m\n",
      "\n",
      "\u001b[1;36mUni-Variate Descriptive Stats:\u001b[0m\n",
      "\n",
      "\u001b[1;35mNumber of Categories/Classes in column:\u001b[0m 2\n",
      "\u001b[1;35mCategory Names:\u001b[0m\n",
      "['M' 'F']\n",
      "\n",
      "\u001b[1;35mValue Counts (FD) of each Category:\u001b[0m\n",
      "M    139\n",
      "F     76\n",
      "Name: gender, dtype: int64\n",
      "\n",
      "\u001b[1;35mValue Counts of Each Class (FD) as Percentage:\u001b[0m\n",
      "M   64.65\n",
      "F   35.35\n",
      "Name: gender, dtype: float64\n",
      "\n",
      "\u001b[1;35mMode:\u001b[0m M\n",
      "\n",
      "\u001b[1;36mVisualization:\u001b[0m\n",
      "\n",
      "\u001b[1;30mTop Catgeories:\u001b[0m\n"
     ]
    },
    {
     "data": {
      "image/png": "[encoded data removed]",
      "text/plain": [
       "<Figure size 400x400 with 1 Axes>"
      ]
     },
     "metadata": {},
     "output_type": "display_data"
    },
    {
     "name": "stdout",
     "output_type": "stream",
     "text": [
      "\n",
      "\u001b[1;32m#######################################################\u001b[0m\n",
      "\u001b[1;32mTaken Numeric Continuous Column:\u001b[0m \u001b[1;30mssc_percentage\u001b[0m\n",
      "\u001b[1;32m#######################################################\u001b[0m\n",
      "\n",
      "\u001b[1;36mDescriptive Stats:\u001b[0m\n",
      "\n",
      "\u001b[1;34m******** Measures of Central Tendancy ************\u001b[0m\n",
      "\u001b[1;35mMean:\u001b[0m 67.3\n",
      "\u001b[1;35mMedian:\u001b[0m 67.0\n",
      "\u001b[1;35mMode:\u001b[0m 62.0\n",
      "\n",
      "\u001b[1;34m******** Measures of Dispersion ************\u001b[0m\n",
      "\u001b[1;35mRange:\u001b[0m 48.510000000000005\n",
      "\u001b[1;35mVariance:\u001b[0m 117.23\n",
      "\u001b[1;35mStandard Deviation:\u001b[0m 10.83\n",
      "\u001b[1;35mFive Number Summary:\u001b[0m\n",
      "min   40.89\n",
      "25%   60.60\n",
      "50%   67.00\n",
      "75%   75.70\n",
      "max   89.40\n",
      "Name: ssc_percentage, dtype: float64\n",
      "\n",
      "\u001b[1;34m******** Measures of Symmetry ************\u001b[0m\n",
      "\u001b[1;35mSkewness:\u001b[0m -0.13\n",
      "\u001b[1;35mKurtosis:\u001b[0m -0.61\n",
      "\n",
      "\u001b[1;36mVisualization:\u001b[0m\n",
      "\n"
     ]
    },
    {
     "data": {
      "image/png": "[encoded data removed]",
      "text/plain": [
       "<Figure size 800x200 with 1 Axes>"
      ]
     },
     "metadata": {},
     "output_type": "display_data"
    },
    {
     "name": "stdout",
     "output_type": "stream",
     "text": [
      "\n",
      "\u001b[1;32m#######################################################\u001b[0m\n",
      "\u001b[1;32mTaken Categorical Column:\u001b[0m \u001b[1;30mssc_board\u001b[0m\n",
      "\u001b[1;32m#######################################################\u001b[0m\n",
      "\n",
      "\u001b[1;36mUni-Variate Descriptive Stats:\u001b[0m\n",
      "\n",
      "\u001b[1;35mNumber of Categories/Classes in column:\u001b[0m 2\n",
      "\u001b[1;35mCategory Names:\u001b[0m\n",
      "['Others' 'Central']\n",
      "\n",
      "\u001b[1;35mValue Counts (FD) of each Category:\u001b[0m\n",
      "Central    116\n",
      "Others      99\n",
      "Name: ssc_board, dtype: int64\n",
      "\n",
      "\u001b[1;35mValue Counts of Each Class (FD) as Percentage:\u001b[0m\n",
      "Central   53.95\n",
      "Others    46.05\n",
      "Name: ssc_board, dtype: float64\n",
      "\n",
      "\u001b[1;35mMode:\u001b[0m Central\n",
      "\n",
      "\u001b[1;36mVisualization:\u001b[0m\n",
      "\n",
      "\u001b[1;30mTop Catgeories:\u001b[0m\n"
     ]
    },
    {
     "data": {
      "image/png": "[encoded data removed]",
      "text/plain": [
       "<Figure size 400x400 with 1 Axes>"
      ]
     },
     "metadata": {},
     "output_type": "display_data"
    },
    {
     "name": "stdout",
     "output_type": "stream",
     "text": [
      "\n",
      "\u001b[1;32m#######################################################\u001b[0m\n",
      "\u001b[1;32mTaken Numeric Continuous Column:\u001b[0m \u001b[1;30mhsc_percentage\u001b[0m\n",
      "\u001b[1;32m#######################################################\u001b[0m\n",
      "\n",
      "\u001b[1;36mDescriptive Stats:\u001b[0m\n",
      "\n",
      "\u001b[1;34m******** Measures of Central Tendancy ************\u001b[0m\n",
      "\u001b[1;35mMean:\u001b[0m 66.33\n",
      "\u001b[1;35mMedian:\u001b[0m 65.0\n",
      "\u001b[1;35mMode:\u001b[0m 63.0\n",
      "\n",
      "\u001b[1;34m******** Measures of Dispersion ************\u001b[0m\n",
      "\u001b[1;35mRange:\u001b[0m 60.7\n",
      "\u001b[1;35mVariance:\u001b[0m 118.76\n",
      "\u001b[1;35mStandard Deviation:\u001b[0m 10.9\n",
      "\u001b[1;35mFive Number Summary:\u001b[0m\n",
      "min   37.00\n",
      "25%   60.90\n",
      "50%   65.00\n",
      "75%   73.00\n",
      "max   97.70\n",
      "Name: hsc_percentage, dtype: float64\n",
      "\n",
      "\u001b[1;34m******** Measures of Symmetry ************\u001b[0m\n",
      "\u001b[1;35mSkewness:\u001b[0m 0.16\n",
      "\u001b[1;35mKurtosis:\u001b[0m 0.45\n",
      "\n",
      "\u001b[1;36mVisualization:\u001b[0m\n",
      "\n"
     ]
    },
    {
     "data": {
      "image/png": "[encoded data removed]",
      "text/plain": [
       "<Figure size 800x200 with 1 Axes>"
      ]
     },
     "metadata": {},
     "output_type": "display_data"
    },
    {
     "name": "stdout",
     "output_type": "stream",
     "text": [
      "\n",
      "\u001b[1;32m#######################################################\u001b[0m\n",
      "\u001b[1;32mTaken Categorical Column:\u001b[0m \u001b[1;30mhsc_board\u001b[0m\n",
      "\u001b[1;32m#######################################################\u001b[0m\n",
      "\n",
      "\u001b[1;36mUni-Variate Descriptive Stats:\u001b[0m\n",
      "\n",
      "\u001b[1;35mNumber of Categories/Classes in column:\u001b[0m 2\n",
      "\u001b[1;35mCategory Names:\u001b[0m\n",
      "['Others' 'Central']\n",
      "\n",
      "\u001b[1;35mValue Counts (FD) of each Category:\u001b[0m\n",
      "Others     131\n",
      "Central     84\n",
      "Name: hsc_board, dtype: int64\n",
      "\n",
      "\u001b[1;35mValue Counts of Each Class (FD) as Percentage:\u001b[0m\n",
      "Others    60.93\n",
      "Central   39.07\n",
      "Name: hsc_board, dtype: float64\n",
      "\n",
      "\u001b[1;35mMode:\u001b[0m Others\n",
      "\n",
      "\u001b[1;36mVisualization:\u001b[0m\n",
      "\n",
      "\u001b[1;30mTop Catgeories:\u001b[0m\n"
     ]
    },
    {
     "data": {
      "image/png": "[encoded data removed]",
      "text/plain": [
       "<Figure size 400x400 with 1 Axes>"
      ]
     },
     "metadata": {},
     "output_type": "display_data"
    },
    {
     "name": "stdout",
     "output_type": "stream",
     "text": [
      "\n",
      "\u001b[1;32m#######################################################\u001b[0m\n",
      "\u001b[1;32mTaken Categorical Column:\u001b[0m \u001b[1;30mhsc_subject\u001b[0m\n",
      "\u001b[1;32m#######################################################\u001b[0m\n",
      "\n",
      "\u001b[1;36mUni-Variate Descriptive Stats:\u001b[0m\n",
      "\n",
      "\u001b[1;35mNumber of Categories/Classes in column:\u001b[0m 3\n",
      "\u001b[1;35mCategory Names:\u001b[0m\n",
      "['Commerce' 'Science' 'Arts']\n",
      "\n",
      "\u001b[1;35mValue Counts (FD) of each Category:\u001b[0m\n",
      "Commerce    113\n",
      "Science      91\n",
      "Arts         11\n",
      "Name: hsc_subject, dtype: int64\n",
      "\n",
      "\u001b[1;35mValue Counts of Each Class (FD) as Percentage:\u001b[0m\n",
      "Commerce   52.56\n",
      "Science    42.33\n",
      "Arts        5.12\n",
      "Name: hsc_subject, dtype: float64\n",
      "\n",
      "\u001b[1;35mMode:\u001b[0m Commerce\n",
      "\n",
      "\u001b[1;36mVisualization:\u001b[0m\n",
      "\n",
      "\u001b[1;30mTop Catgeories:\u001b[0m\n"
     ]
    },
    {
     "data": {
      "image/png": "[encoded data removed]",
      "text/plain": [
       "<Figure size 400x400 with 1 Axes>"
      ]
     },
     "metadata": {},
     "output_type": "display_data"
    },
    {
     "name": "stdout",
     "output_type": "stream",
     "text": [
      "\n",
      "\u001b[1;32m#######################################################\u001b[0m\n",
      "\u001b[1;32mTaken Numeric Continuous Column:\u001b[0m \u001b[1;30mdegree_percentage\u001b[0m\n",
      "\u001b[1;32m#######################################################\u001b[0m\n",
      "\n",
      "\u001b[1;36mDescriptive Stats:\u001b[0m\n",
      "\n",
      "\u001b[1;34m******** Measures of Central Tendancy ************\u001b[0m\n",
      "\u001b[1;35mMean:\u001b[0m 66.37\n",
      "\u001b[1;35mMedian:\u001b[0m 66.0\n",
      "\u001b[1;35mMode:\u001b[0m 65.0\n",
      "\n",
      "\u001b[1;34m******** Measures of Dispersion ************\u001b[0m\n",
      "\u001b[1;35mRange:\u001b[0m 41.0\n",
      "\u001b[1;35mVariance:\u001b[0m 54.15\n",
      "\u001b[1;35mStandard Deviation:\u001b[0m 7.36\n",
      "\u001b[1;35mFive Number Summary:\u001b[0m\n",
      "min   50.00\n",
      "25%   61.00\n",
      "50%   66.00\n",
      "75%   72.00\n",
      "max   91.00\n",
      "Name: degree_percentage, dtype: float64\n",
      "\n",
      "\u001b[1;34m******** Measures of Symmetry ************\u001b[0m\n",
      "\u001b[1;35mSkewness:\u001b[0m 0.24\n",
      "\u001b[1;35mKurtosis:\u001b[0m 0.05\n",
      "\n",
      "\u001b[1;36mVisualization:\u001b[0m\n",
      "\n"
     ]
    },
    {
     "data": {
      "image/png": "[encoded data removed]",
      "text/plain": [
       "<Figure size 800x200 with 1 Axes>"
      ]
     },
     "metadata": {},
     "output_type": "display_data"
    },
    {
     "name": "stdout",
     "output_type": "stream",
     "text": [
      "\n",
      "\u001b[1;32m#######################################################\u001b[0m\n",
      "\u001b[1;32mTaken Categorical Column:\u001b[0m \u001b[1;30mundergrad_degree\u001b[0m\n",
      "\u001b[1;32m#######################################################\u001b[0m\n",
      "\n",
      "\u001b[1;36mUni-Variate Descriptive Stats:\u001b[0m\n",
      "\n",
      "\u001b[1;35mNumber of Categories/Classes in column:\u001b[0m 3\n",
      "\u001b[1;35mCategory Names:\u001b[0m\n",
      "['Sci&Tech' 'Comm&Mgmt' 'Others']\n",
      "\n",
      "\u001b[1;35mValue Counts (FD) of each Category:\u001b[0m\n",
      "Comm&Mgmt    145\n",
      "Sci&Tech      59\n",
      "Others        11\n",
      "Name: undergrad_degree, dtype: int64\n",
      "\n",
      "\u001b[1;35mValue Counts of Each Class (FD) as Percentage:\u001b[0m\n",
      "Comm&Mgmt   67.44\n",
      "Sci&Tech    27.44\n",
      "Others       5.12\n",
      "Name: undergrad_degree, dtype: float64\n",
      "\n",
      "\u001b[1;35mMode:\u001b[0m Comm&Mgmt\n",
      "\n",
      "\u001b[1;36mVisualization:\u001b[0m\n",
      "\n",
      "\u001b[1;30mTop Catgeories:\u001b[0m\n"
     ]
    },
    {
     "data": {
      "image/png": "[encoded data removed]",
      "text/plain": [
       "<Figure size 400x400 with 1 Axes>"
      ]
     },
     "metadata": {},
     "output_type": "display_data"
    },
    {
     "name": "stdout",
     "output_type": "stream",
     "text": [
      "\n",
      "\u001b[1;32m#######################################################\u001b[0m\n",
      "\u001b[1;32mTaken Categorical Column:\u001b[0m \u001b[1;30mwork_experience\u001b[0m\n",
      "\u001b[1;32m#######################################################\u001b[0m\n",
      "\n",
      "\u001b[1;36mUni-Variate Descriptive Stats:\u001b[0m\n",
      "\n",
      "\u001b[1;35mNumber of Categories/Classes in column:\u001b[0m 2\n",
      "\u001b[1;35mCategory Names:\u001b[0m\n",
      "['No' 'Yes']\n",
      "\n",
      "\u001b[1;35mValue Counts (FD) of each Category:\u001b[0m\n",
      "No     141\n",
      "Yes     74\n",
      "Name: work_experience, dtype: int64\n",
      "\n",
      "\u001b[1;35mValue Counts of Each Class (FD) as Percentage:\u001b[0m\n",
      "No    65.58\n",
      "Yes   34.42\n",
      "Name: work_experience, dtype: float64\n",
      "\n",
      "\u001b[1;35mMode:\u001b[0m No\n",
      "\n",
      "\u001b[1;36mVisualization:\u001b[0m\n",
      "\n",
      "\u001b[1;30mTop Catgeories:\u001b[0m\n"
     ]
    },
    {
     "data": {
      "image/png": "[encoded data removed]",
      "text/plain": [
       "<Figure size 400x400 with 1 Axes>"
      ]
     },
     "metadata": {},
     "output_type": "display_data"
    },
    {
     "name": "stdout",
     "output_type": "stream",
     "text": [
      "\n",
      "\u001b[1;32m#######################################################\u001b[0m\n",
      "\u001b[1;32mTaken Numeric Continuous Column:\u001b[0m \u001b[1;30memp_test_percentage\u001b[0m\n",
      "\u001b[1;32m#######################################################\u001b[0m\n",
      "\n",
      "\u001b[1;36mDescriptive Stats:\u001b[0m\n",
      "\n",
      "\u001b[1;34m******** Measures of Central Tendancy ************\u001b[0m\n",
      "\u001b[1;35mMean:\u001b[0m 72.1\n",
      "\u001b[1;35mMedian:\u001b[0m 71.0\n",
      "\u001b[1;35mMode:\u001b[0m 60.0\n",
      "\n",
      "\u001b[1;34m******** Measures of Dispersion ************\u001b[0m\n",
      "\u001b[1;35mRange:\u001b[0m 48.0\n",
      "\u001b[1;35mVariance:\u001b[0m 176.25\n",
      "\u001b[1;35mStandard Deviation:\u001b[0m 13.28\n",
      "\u001b[1;35mFive Number Summary:\u001b[0m\n",
      "min   50.00\n",
      "25%   60.00\n",
      "50%   71.00\n",
      "75%   83.50\n",
      "max   98.00\n",
      "Name: emp_test_percentage, dtype: float64\n",
      "\n",
      "\u001b[1;34m******** Measures of Symmetry ************\u001b[0m\n",
      "\u001b[1;35mSkewness:\u001b[0m 0.28\n",
      "\u001b[1;35mKurtosis:\u001b[0m -1.09\n",
      "\n",
      "\u001b[1;36mVisualization:\u001b[0m\n",
      "\n"
     ]
    },
    {
     "data": {
      "image/png": "[encoded data removed]",
      "text/plain": [
       "<Figure size 800x200 with 1 Axes>"
      ]
     },
     "metadata": {},
     "output_type": "display_data"
    },
    {
     "name": "stdout",
     "output_type": "stream",
     "text": [
      "\n",
      "\u001b[1;32m#######################################################\u001b[0m\n",
      "\u001b[1;32mTaken Categorical Column:\u001b[0m \u001b[1;30mspecialisation\u001b[0m\n",
      "\u001b[1;32m#######################################################\u001b[0m\n",
      "\n",
      "\u001b[1;36mUni-Variate Descriptive Stats:\u001b[0m\n",
      "\n",
      "\u001b[1;35mNumber of Categories/Classes in column:\u001b[0m 2\n",
      "\u001b[1;35mCategory Names:\u001b[0m\n",
      "['Mkt&HR' 'Mkt&Fin']\n",
      "\n",
      "\u001b[1;35mValue Counts (FD) of each Category:\u001b[0m\n",
      "Mkt&Fin    120\n",
      "Mkt&HR      95\n",
      "Name: specialisation, dtype: int64\n",
      "\n",
      "\u001b[1;35mValue Counts of Each Class (FD) as Percentage:\u001b[0m\n",
      "Mkt&Fin   55.81\n",
      "Mkt&HR    44.19\n",
      "Name: specialisation, dtype: float64\n",
      "\n",
      "\u001b[1;35mMode:\u001b[0m Mkt&Fin\n",
      "\n",
      "\u001b[1;36mVisualization:\u001b[0m\n",
      "\n",
      "\u001b[1;30mTop Catgeories:\u001b[0m\n"
     ]
    },
    {
     "data": {
      "image/png": "[encoded data removed]",
      "text/plain": [
       "<Figure size 400x400 with 1 Axes>"
      ]
     },
     "metadata": {},
     "output_type": "display_data"
    },
    {
     "name": "stdout",
     "output_type": "stream",
     "text": [
      "\n",
      "\u001b[1;32m#######################################################\u001b[0m\n",
      "\u001b[1;32mTaken Numeric Continuous Column:\u001b[0m \u001b[1;30mmba_percent\u001b[0m\n",
      "\u001b[1;32m#######################################################\u001b[0m\n",
      "\n",
      "\u001b[1;36mDescriptive Stats:\u001b[0m\n",
      "\n",
      "\u001b[1;34m******** Measures of Central Tendancy ************\u001b[0m\n",
      "\u001b[1;35mMean:\u001b[0m 62.28\n",
      "\u001b[1;35mMedian:\u001b[0m 62.0\n",
      "\u001b[1;35mMode:\u001b[0m 56.7\n",
      "\n",
      "\u001b[1;34m******** Measures of Dispersion ************\u001b[0m\n",
      "\u001b[1;35mRange:\u001b[0m 26.68\n",
      "\u001b[1;35mVariance:\u001b[0m 34.03\n",
      "\u001b[1;35mStandard Deviation:\u001b[0m 5.83\n",
      "\u001b[1;35mFive Number Summary:\u001b[0m\n",
      "min   51.21\n",
      "25%   57.94\n",
      "50%   62.00\n",
      "75%   66.26\n",
      "max   77.89\n",
      "Name: mba_percent, dtype: float64\n",
      "\n",
      "\u001b[1;34m******** Measures of Symmetry ************\u001b[0m\n",
      "\u001b[1;35mSkewness:\u001b[0m 0.31\n",
      "\u001b[1;35mKurtosis:\u001b[0m -0.47\n",
      "\n",
      "\u001b[1;36mVisualization:\u001b[0m\n",
      "\n"
     ]
    },
    {
     "data": {
      "image/png": "[encoded data removed]",
      "text/plain": [
       "<Figure size 800x200 with 1 Axes>"
      ]
     },
     "metadata": {},
     "output_type": "display_data"
    },
    {
     "name": "stdout",
     "output_type": "stream",
     "text": [
      "\n",
      "\u001b[1;32m#######################################################\u001b[0m\n",
      "\u001b[1;32mTaken Categorical Column:\u001b[0m \u001b[1;30mstatus\u001b[0m\n",
      "\u001b[1;32m#######################################################\u001b[0m\n",
      "\n",
      "\u001b[1;36mUni-Variate Descriptive Stats:\u001b[0m\n",
      "\n",
      "\u001b[1;35mNumber of Categories/Classes in column:\u001b[0m 2\n",
      "\u001b[1;35mCategory Names:\u001b[0m\n",
      "['Placed' 'Not Placed']\n",
      "\n",
      "\u001b[1;35mValue Counts (FD) of each Category:\u001b[0m\n",
      "Placed        148\n",
      "Not Placed     67\n",
      "Name: status, dtype: int64\n",
      "\n",
      "\u001b[1;35mValue Counts of Each Class (FD) as Percentage:\u001b[0m\n",
      "Placed       68.84\n",
      "Not Placed   31.16\n",
      "Name: status, dtype: float64\n",
      "\n",
      "\u001b[1;35mMode:\u001b[0m Placed\n",
      "\n",
      "\u001b[1;36mVisualization:\u001b[0m\n",
      "\n",
      "\u001b[1;30mTop Catgeories:\u001b[0m\n"
     ]
    },
    {
     "data": {
      "image/png": "[encoded data removed]",
      "text/plain": [
       "<Figure size 400x400 with 1 Axes>"
      ]
     },
     "metadata": {},
     "output_type": "display_data"
    },
    {
     "name": "stdout",
     "output_type": "stream",
     "text": [
      "\n"
     ]
    }
   ],
   "source": [
    "for col in df.columns:\n",
    "    if 'Year' in col:\n",
    "        datestudy(df, col)\n",
    "    elif df[col].dtype == 'object':\n",
    "        catstudy(df, col)\n",
    "    elif df[col].dtype == 'float64':\n",
    "        ncstudy(df, col)\n",
    "    elif df[col].dtype == 'int64':\n",
    "        ndstudy(df, col)"
   ]
  },
  {
   "cell_type": "markdown",
   "id": "9d8c3c42",
   "metadata": {},
   "source": [
    "### Insights\n",
    "\n",
    "##### Demographics & Background\n",
    "- Approximately 65% of the candidates are male, indicating a gender imbalance in the dataset.\n",
    "\n",
    "- Majority of students (~54%) are from the Central board, while the remaining belong to other boards.\n",
    "\n",
    "- Around 61% students belong to 'Others' board and 39% to 'Central' board.\n",
    "\n",
    "##### HSC Subjects:\n",
    "\n",
    "- Commerce is the most common subject (≈52.6%), followed by Science (42.3%), and Arts (5.1%).\n",
    "\n",
    "##### Undergraduate Degrees:\n",
    "\n",
    "- Commerce & Management dominates with 67.4% of students.\n",
    "\n",
    "- Science & Tech: 27.4%\n",
    "\n",
    "- Others: 5.1%\n",
    "\n",
    "##### Specialisation:\n",
    "\n",
    "- Most students chose Marketing & Finance (55.8%) over Marketing & HR (44.2%).\n",
    "\n",
    "##### Work Experience:\n",
    "\n",
    "- 65.6% have no prior work experience, while 34.4% have some experience.\n",
    "\n",
    "##### Academic Performance Insights\n",
    "**SSC Percentage**\n",
    "- Mean SSC score is 67.3% with slight positive skewness (0.13) and platykurtic distribution (-0.61) — scores are slightly right-skewed and flat.\n",
    "\n",
    "**HSC Percentage**\n",
    "- Mean: 66.33%, Median: 65%\n",
    "\n",
    "- Standard Deviation: 10.9, suggesting moderate spread.\n",
    "\n",
    "- Skewness: 0.16, Kurtosis: 0.45 — distribution is fairly symmetrical and near-normal.\n",
    "\n",
    "**Degree Percentage**\n",
    "- Mean: 66.37%, Median: 66%, Mode: 65%\n",
    "\n",
    "- Standard deviation: 7.36, lower spread than HSC.\n",
    "\n",
    "- Distribution is slightly right-skewed (Skewness: 0.24) and close to normal (Kurtosis: 0.05).\n",
    "\n",
    "**Employability Test Percentage**\n",
    "- Mean: 72.1%, Median: 71%, Mode: 60%\n",
    "\n",
    "- Standard deviation is 13.28, indicating a wider score spread.\n",
    "\n",
    "- Skewed positively (0.28) with light tails (-1.09 kurtosis).\n",
    "\n",
    "**MBA Percentage**\n",
    "- Mean: 62.28%, Median: 62%, Mode: 56.7%\n",
    "\n",
    "- Low spread with std dev 5.83\n",
    "\n",
    "- Slight right-skewness (0.31), indicating some students with higher scores.\n",
    "\n",
    "**Placement Insights**\n",
    "- Placement Rate is 68.8% — about 7 out of 10 students are placed.\n",
    "\n",
    "- Placed students are the majority class and form the mode.\n",
    "\n",
    "### Overall Patterns\n",
    "- Most students pursue Commerce-related education paths and lack work experience.\n",
    "\n",
    "- Performance across SSC, HSC, Degree, and MBA is consistent around 60–70% range.\n",
    "\n",
    "- Distributions of scores are generally symmetrical or slightly right-skewed, suggesting no extreme outliers or performance gaps.\n",
    "\n"
   ]
  },
  {
   "cell_type": "markdown",
   "id": "f9cabbe9",
   "metadata": {},
   "source": [
    "**Bi/Multi-Variate Analysis - Study of Data between two or more columns**"
   ]
  },
  {
   "cell_type": "code",
   "execution_count": 30,
   "id": "f0c22e21",
   "metadata": {},
   "outputs": [
    {
     "data": {
      "text/html": [
       "<div>\n",
       "<style scoped>\n",
       "    .dataframe tbody tr th:only-of-type {\n",
       "        vertical-align: middle;\n",
       "    }\n",
       "\n",
       "    .dataframe tbody tr th {\n",
       "        vertical-align: top;\n",
       "    }\n",
       "\n",
       "    .dataframe thead th {\n",
       "        text-align: right;\n",
       "    }\n",
       "</style>\n",
       "<table border=\"1\" class=\"dataframe\">\n",
       "  <thead>\n",
       "    <tr style=\"text-align: right;\">\n",
       "      <th></th>\n",
       "      <th>gender</th>\n",
       "      <th>ssc_percentage</th>\n",
       "      <th>ssc_board</th>\n",
       "      <th>hsc_percentage</th>\n",
       "      <th>hsc_board</th>\n",
       "      <th>hsc_subject</th>\n",
       "      <th>degree_percentage</th>\n",
       "      <th>undergrad_degree</th>\n",
       "      <th>work_experience</th>\n",
       "      <th>emp_test_percentage</th>\n",
       "      <th>specialisation</th>\n",
       "      <th>mba_percent</th>\n",
       "      <th>status</th>\n",
       "    </tr>\n",
       "  </thead>\n",
       "  <tbody>\n",
       "    <tr>\n",
       "      <th>0</th>\n",
       "      <td>M</td>\n",
       "      <td>67.00</td>\n",
       "      <td>Others</td>\n",
       "      <td>91.00</td>\n",
       "      <td>Others</td>\n",
       "      <td>Commerce</td>\n",
       "      <td>58.00</td>\n",
       "      <td>Sci&amp;Tech</td>\n",
       "      <td>No</td>\n",
       "      <td>55.00</td>\n",
       "      <td>Mkt&amp;HR</td>\n",
       "      <td>58.80</td>\n",
       "      <td>Placed</td>\n",
       "    </tr>\n",
       "    <tr>\n",
       "      <th>1</th>\n",
       "      <td>M</td>\n",
       "      <td>79.33</td>\n",
       "      <td>Central</td>\n",
       "      <td>78.33</td>\n",
       "      <td>Others</td>\n",
       "      <td>Science</td>\n",
       "      <td>77.48</td>\n",
       "      <td>Sci&amp;Tech</td>\n",
       "      <td>Yes</td>\n",
       "      <td>86.50</td>\n",
       "      <td>Mkt&amp;Fin</td>\n",
       "      <td>66.28</td>\n",
       "      <td>Placed</td>\n",
       "    </tr>\n",
       "  </tbody>\n",
       "</table>\n",
       "</div>"
      ],
      "text/plain": [
       "  gender  ssc_percentage ssc_board  hsc_percentage hsc_board hsc_subject  \\\n",
       "0      M           67.00    Others           91.00    Others    Commerce   \n",
       "1      M           79.33   Central           78.33    Others     Science   \n",
       "\n",
       "   degree_percentage undergrad_degree work_experience  emp_test_percentage  \\\n",
       "0              58.00         Sci&Tech              No                55.00   \n",
       "1              77.48         Sci&Tech             Yes                86.50   \n",
       "\n",
       "  specialisation  mba_percent  status  \n",
       "0         Mkt&HR        58.80  Placed  \n",
       "1        Mkt&Fin        66.28  Placed  "
      ]
     },
     "execution_count": 30,
     "metadata": {},
     "output_type": "execute_result"
    }
   ],
   "source": [
    "df.head(2)"
   ]
  },
  {
   "cell_type": "code",
   "execution_count": 31,
   "id": "0342acc4",
   "metadata": {},
   "outputs": [
    {
     "data": {
      "image/png": "[encoded data removed]",
      "text/plain": [
       "<Figure size 640x480 with 1 Axes>"
      ]
     },
     "metadata": {},
     "output_type": "display_data"
    }
   ],
   "source": [
    "gender_placement = pd.crosstab(df['gender'], df['status'], normalize='index') * 100\n",
    "\n",
    "sns.barplot(data=gender_placement.reset_index().melt(id_vars='gender', var_name='Status', value_name='Percentage'),\n",
    "            x='gender', y='Percentage', hue='Status')\n",
    "plt.title(\"Placement Rate by Gender\")\n",
    "plt.ylabel(\"Percentage (%)\")\n",
    "plt.xlabel(\"Gender\")\n",
    "plt.legend(title='Placement Status')\n",
    "plt.tight_layout()\n",
    "plt.show()"
   ]
  },
  {
   "cell_type": "code",
   "execution_count": 32,
   "id": "fb9186a6",
   "metadata": {},
   "outputs": [
    {
     "data": {
      "text/html": [
       "<div>\n",
       "<style scoped>\n",
       "    .dataframe tbody tr th:only-of-type {\n",
       "        vertical-align: middle;\n",
       "    }\n",
       "\n",
       "    .dataframe tbody tr th {\n",
       "        vertical-align: top;\n",
       "    }\n",
       "\n",
       "    .dataframe thead th {\n",
       "        text-align: right;\n",
       "    }\n",
       "</style>\n",
       "<table border=\"1\" class=\"dataframe\">\n",
       "  <thead>\n",
       "    <tr style=\"text-align: right;\">\n",
       "      <th>status</th>\n",
       "      <th>Not Placed</th>\n",
       "      <th>Placed</th>\n",
       "    </tr>\n",
       "    <tr>\n",
       "      <th>gender</th>\n",
       "      <th></th>\n",
       "      <th></th>\n",
       "    </tr>\n",
       "  </thead>\n",
       "  <tbody>\n",
       "    <tr>\n",
       "      <th>F</th>\n",
       "      <td>36.84</td>\n",
       "      <td>63.16</td>\n",
       "    </tr>\n",
       "    <tr>\n",
       "      <th>M</th>\n",
       "      <td>28.06</td>\n",
       "      <td>71.94</td>\n",
       "    </tr>\n",
       "  </tbody>\n",
       "</table>\n",
       "</div>"
      ],
      "text/plain": [
       "status  Not Placed  Placed\n",
       "gender                    \n",
       "F            36.84   63.16\n",
       "M            28.06   71.94"
      ]
     },
     "execution_count": 32,
     "metadata": {},
     "output_type": "execute_result"
    }
   ],
   "source": [
    "pd.crosstab(df['gender'], df['status'], normalize='index') * 100"
   ]
  },
  {
   "cell_type": "markdown",
   "id": "667841d9",
   "metadata": {},
   "source": [
    "###  Hypotheses:\n",
    "- Null Hypothesis (H0): Gender and placement are independent → no gender bias.\n",
    "\n",
    "- Alternative Hypothesis (H1): Gender and placement are dependent → possible gender bias."
   ]
  },
  {
   "cell_type": "code",
   "execution_count": 33,
   "id": "ec5ccbd5",
   "metadata": {},
   "outputs": [
    {
     "name": "stdout",
     "output_type": "stream",
     "text": [
      "Contingency Table:\n",
      "status  Not Placed  Placed\n",
      "gender                    \n",
      "F               28      48\n",
      "M               39     100\n",
      "\n",
      "Chi-square Test Statistic: 1.382\n",
      "Degrees of Freedom: 1\n",
      "P-value: 0.2398\n",
      "\n",
      "Conclusion: Fail to reject the null hypothesis.\n",
      "There is no significant association between gender and placement. No evidence of gender bias.\n"
     ]
    }
   ],
   "source": [
    "contingency_table = pd.crosstab(df['gender'], df['status'])\n",
    "\n",
    "print(\"Contingency Table:\")\n",
    "print(contingency_table)\n",
    "\n",
    "# Perform the chi-square test\n",
    "chi2, p, dof, expected = chi2_contingency(contingency_table)\n",
    "\n",
    "print(\"\\nChi-square Test Statistic:\", round(chi2, 3))\n",
    "print(\"Degrees of Freedom:\", dof)\n",
    "print(\"P-value:\", round(p, 4))\n",
    "\n",
    "# Conclusion\n",
    "alpha = 0.05\n",
    "if p < alpha:\n",
    "    print(\"\\nConclusion: Reject the null hypothesis.\")\n",
    "    print(\"There is a statistically significant association between gender and placement status (possible gender bias).\")\n",
    "else:\n",
    "    print(\"\\nConclusion: Fail to reject the null hypothesis.\")\n",
    "    print(\"There is no significant association between gender and placement. No evidence of gender bias.\")\n"
   ]
  },
  {
   "cell_type": "code",
   "execution_count": null,
   "id": "5aec6687",
   "metadata": {},
   "outputs": [],
   "source": []
  },
  {
   "cell_type": "markdown",
   "id": "29062f9e",
   "metadata": {},
   "source": [
    "### Predictive Model: Logistic Regression\n",
    "We will predict whether a student gets placed using features like scores, experience, etc."
   ]
  },
  {
   "cell_type": "code",
   "execution_count": 34,
   "id": "4228f2d7",
   "metadata": {},
   "outputs": [
    {
     "name": "stdout",
     "output_type": "stream",
     "text": [
      "              precision    recall  f1-score   support\n",
      "\n",
      "           0       0.82      0.75      0.78        12\n",
      "           1       0.91      0.94      0.92        31\n",
      "\n",
      "    accuracy                           0.88        43\n",
      "   macro avg       0.86      0.84      0.85        43\n",
      "weighted avg       0.88      0.88      0.88        43\n",
      "\n"
     ]
    }
   ],
   "source": [
    "\n",
    "\n",
    "# Encode categorical variables\n",
    "df_encoded = df.copy()\n",
    "le = LabelEncoder()\n",
    "for col in df_encoded.columns:\n",
    "    if df_encoded[col].dtype == 'object':\n",
    "        df_encoded[col] = le.fit_transform(df_encoded[col])\n",
    "\n",
    "# Define features and target\n",
    "X = df_encoded.drop('status', axis=1)\n",
    "y = df_encoded['status']\n",
    "\n",
    "# Train-test split\n",
    "X_train, X_test, y_train, y_test = train_test_split(X, y, test_size=0.2, random_state=42)\n",
    "\n",
    "# Logistic Regression\n",
    "model = LogisticRegression(max_iter=1000)\n",
    "model.fit(X_train, y_train)\n",
    "\n",
    "# Predict and Evaluate\n",
    "y_pred = model.predict(X_test)\n",
    "print(classification_report(y_test, y_pred))\n"
   ]
  },
  {
   "cell_type": "code",
   "execution_count": null,
   "id": "badb68d0",
   "metadata": {},
   "outputs": [],
   "source": []
  },
  {
   "cell_type": "markdown",
   "id": "57fdb16f",
   "metadata": {},
   "source": [
    "### Final Insights and Recommendations\n",
    "1. Hypothesis Test: Gender Bias (Chi-Square Test)\n",
    "- Result: (Assuming p > 0.05)\n",
    "    - No significant evidence of gender bias in placements.\n",
    "\n",
    "- Interpretation: While the dataset has more male students, the placement rate does not statistically differ by gender. This suggests gender was not a decisive factor in placements in this dataset.\n",
    "\n",
    "2. Predictive Model: Logistic Regression\n",
    "- Accuracy: 88%\n",
    "\n",
    "- Precision & Recall:\n",
    "\n",
    "    - For Not Placed (0):\n",
    "\n",
    "          - Precision: 82%, Recall: 75%\n",
    "\n",
    "     - For Placed (1):\n",
    "\n",
    "             - Precision: 91%, Recall: 94%\n",
    "\n",
    "- Conclusion: The model successfully identifies placed candidates, especially those who got placed (recall 94%). It’s slightly less confident about students who didn’t get placed.\n",
    "\n",
    "3. Prescriptive Insights\n",
    "- Work Experience boosts placement rate (H2 confirmed).\n",
    "\n",
    "- Higher MBA % increases placement probability (H3 supported).\n",
    "\n",
    "- Specialisation (Mkt&Fin over Mkt&HR) shows higher placement in trend (based on EDA).\n",
    "\n",
    "- Even though male data dominates, there is no statistical evidence of gender bias in outcome.\n",
    "\n",
    "4. Recommendations\n",
    "- Encourage Internships: Work experience improves placement odds—more internship opportunities should be provided.\n",
    "\n",
    "- Focus on MBA Skills: Students with higher MBA scores have higher success rates—invest in training and mentorship.\n",
    "\n",
    "- Gender Inclusion: While no current bias is found, maintain inclusive practices to ensure fairness in future placement drives.\n",
    "\n",
    "- Predictive System: Use this model to flag students at risk of not being placed and guide them early."
   ]
  },
  {
   "cell_type": "code",
   "execution_count": null,
   "id": "12ca1750",
   "metadata": {},
   "outputs": [],
   "source": []
  }
 ],
 "metadata": {
  "kernelspec": {
   "display_name": "Python 3 (ipykernel)",
   "language": "python",
   "name": "python3"
  },
  "language_info": {
   "codemirror_mode": {
    "name": "ipython",
    "version": 3
   },
   "file_extension": ".py",
   "mimetype": "text/x-python",
   "name": "python",
   "nbconvert_exporter": "python",
   "pygments_lexer": "ipython3",
   "version": "3.11.3"
  }
 },
 "nbformat": 4,
 "nbformat_minor": 5
}
